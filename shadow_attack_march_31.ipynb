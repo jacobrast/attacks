{
  "nbformat": 4,
  "nbformat_minor": 0,
  "metadata": {
    "colab": {
      "provenance": [],
      "gpuType": "T4"
    },
    "kernelspec": {
      "name": "python3",
      "display_name": "Python 3"
    },
    "language_info": {
      "name": "python"
    },
    "accelerator": "GPU"
  },
  "cells": [
    {
      "cell_type": "code",
      "execution_count": 1,
      "metadata": {
        "id": "-1OsF2siyGdV"
      },
      "outputs": [],
      "source": [
        "## Step 1: Download the model and dataset"
      ]
    },
    {
      "cell_type": "code",
      "source": [
        "!pip install datasets --quiet"
      ],
      "metadata": {
        "id": "FTKjI77LzuL-"
      },
      "execution_count": 2,
      "outputs": []
    },
    {
      "cell_type": "code",
      "source": [
        "from datasets import load_dataset\n",
        "\n",
        "dataset = load_dataset('bazyl/GTSRB')\n",
        "\n",
        "with open('params.json', 'rb') as f:\n",
        "    params = json.load(f)\n",
        "    class_n = params['GTSRB']['class_n']\n",
        "    device = params['device']\n",
        "    position_list, mask_list = load_mask()\n",
        "\n",
        "# Load the model\n",
        "model = GtsrbCNN(n_class=class_n).to(device)\n",
        "model.load_state_dict(\n",
        "    torch.load(f'./model/model_gtsrb.pth',\n",
        "                map_location=torch.device(device)))\n",
        "model.eval()"
      ],
      "metadata": {
        "colab": {
          "base_uri": "https://localhost:8080/"
        },
        "id": "Kx5v1o4vzu3e",
        "outputId": "530dc09b-a39b-4713-9be9-34b04e6438ab"
      },
      "execution_count": 3,
      "outputs": [
        {
          "output_type": "stream",
          "name": "stderr",
          "text": [
            "/usr/local/lib/python3.10/dist-packages/huggingface_hub/utils/_token.py:88: UserWarning: \n",
            "The secret `HF_TOKEN` does not exist in your Colab secrets.\n",
            "To authenticate with the Hugging Face Hub, create a token in your settings tab (https://huggingface.co/settings/tokens), set it as secret in your Google Colab and restart your session.\n",
            "You will be able to reuse this secret in all of your notebooks.\n",
            "Please note that authentication is recommended but still optional to access public models or datasets.\n",
            "  warnings.warn(\n"
          ]
        }
      ]
    },
    {
      "cell_type": "code",
      "source": [
        "### This is an aside. It is exclusively for finding large images to visualize"
      ],
      "metadata": {
        "id": "rivh1NUGwOWp"
      },
      "execution_count": null,
      "outputs": []
    },
    {
      "cell_type": "code",
      "source": [
        "my_list = (dataset['train']['Width'])\n",
        "indices = [index for index, element in enumerate(my_list) if element > 126]\n"
      ],
      "metadata": {
        "id": "VG9PKvmbz3Wx"
      },
      "execution_count": 4,
      "outputs": []
    },
    {
      "cell_type": "code",
      "source": [
        "## Step 2: Run the model on a specific data point\n",
        "### Jacob's comment March 31 2024: It seems most of this work is already done for me"
      ],
      "metadata": {
        "id": "HgnjSMBeyLQt"
      },
      "execution_count": 9,
      "outputs": []
    },
    {
      "cell_type": "code",
      "source": [
        "!git clone https://github.com/hncszyq/ShadowAttack.git\n",
        "\n",
        "from google.colab import drive\n",
        "drive.mount('/content/drive')\n",
        "\n",
        "!unzip -q /content/drive/MyDrive/data/dataset.zip -d /content/ShadowAttack/dataset\n",
        "!unzip -q /content/drive/MyDrive/data/model.zip -d /content/ShadowAttack/model\n",
        "\n",
        "!pip install grad-cam --quiet\n",
        "\n",
        "import sys\n",
        "import os\n",
        "\n",
        "directory_path = '/content/ShadowAttack'\n",
        "sys.path.append(directory_path)\n",
        "os.chdir('/content/ShadowAttack')"
      ],
      "metadata": {
        "colab": {
          "base_uri": "https://localhost:8080/"
        },
        "id": "sETBIPZk3EHA",
        "outputId": "e07f92fd-9340-4a65-e391-24caac715d1f"
      },
      "execution_count": 10,
      "outputs": [
        {
          "output_type": "stream",
          "name": "stdout",
          "text": [
            "fatal: destination path 'ShadowAttack' already exists and is not an empty directory.\n",
            "Drive already mounted at /content/drive; to attempt to forcibly remount, call drive.mount(\"/content/drive\", force_remount=True).\n",
            "replace /content/ShadowAttack/dataset/LISA/test.pkl? [y]es, [n]o, [A]ll, [N]one, [r]ename: N\n",
            "replace /content/ShadowAttack/model/model_gtsrb.pth? [y]es, [n]o, [A]ll, [N]one, [r]ename: N\n"
          ]
        }
      ]
    },
    {
      "cell_type": "code",
      "source": [
        "import cv2\n",
        "import json\n",
        "import torch\n",
        "\n",
        "import numpy as np\n",
        "import matplotlib.pyplot as plt\n",
        "\n",
        "from gtsrb import GtsrbCNN\n",
        "from utils import load_mask\n",
        "\n",
        "from gtsrb import test_single_image, pre_process_image\n",
        "from torchvision import transforms\n",
        "from pytorch_grad_cam import GradCAM\n",
        "from pytorch_grad_cam.utils.image import scale_cam_image, show_cam_on_image"
      ],
      "metadata": {
        "id": "DwtUvMfl3aNB"
      },
      "execution_count": 11,
      "outputs": []
    },
    {
      "cell_type": "code",
      "source": [
        "from PIL import Image\n",
        "import tempfile\n",
        "\n",
        "def pred_image(pil_file, label):\n",
        "    with tempfile.NamedTemporaryFile(suffix='.png', delete=False) as tmpfile:\n",
        "        pil_file.save(tmpfile, format='PNG')\n",
        "\n",
        "        label, correct = test_single_image(tmpfile.name, label)\n",
        "\n",
        "    return label"
      ],
      "metadata": {
        "id": "BNmIGnDv9sC6"
      },
      "execution_count": 16,
      "outputs": []
    },
    {
      "cell_type": "code",
      "source": [
        "img = dataset['train'][688]['Path']\n",
        "label = dataset['train'][688]['ClassId']\n",
        "\n",
        "pred_image(img, label)"
      ],
      "metadata": {
        "colab": {
          "base_uri": "https://localhost:8080/"
        },
        "id": "LJ04H4xPsnA7",
        "outputId": "22a53121-59be-4c1d-9e43-0cab0a96fcd4"
      },
      "execution_count": 17,
      "outputs": [
        {
          "output_type": "stream",
          "name": "stdout",
          "text": [
            "Correct: True Predict: 1 Confidence: 91.11471176147461%\n"
          ]
        },
        {
          "output_type": "execute_result",
          "data": {
            "text/plain": [
              "1"
            ]
          },
          "metadata": {},
          "execution_count": 17
        }
      ]
    },
    {
      "cell_type": "code",
      "source": [
        "## Step 3: Attack that datapoint to create an adversarially modified image"
      ],
      "metadata": {
        "id": "nHD5MNlLyN9o"
      },
      "execution_count": 18,
      "outputs": []
    },
    {
      "cell_type": "code",
      "source": [
        "with tempfile.NamedTemporaryFile(suffix='.png', delete=False) as tmpfile:\n",
        "    img.save(tmpfile, format='PNG')"
      ],
      "metadata": {
        "id": "lpVfcIKpxbo5"
      },
      "execution_count": 25,
      "outputs": []
    },
    {
      "cell_type": "code",
      "source": [
        "!python shadow_attack.py --shadow_level 0.43 --attack_db GTSRB --attack_type physical --image_path ./tmp/gtsrb_30.png --mask_path ./tmp/gtsrb_30_mask.png --image_label 1"
      ],
      "metadata": {
        "id": "YbzGyb3Nwl9R"
      },
      "execution_count": null,
      "outputs": []
    },
    {
      "cell_type": "code",
      "source": [
        "### Hmm... need to create a mask file. How to do so?"
      ],
      "metadata": {
        "id": "yic6DoCzx4R6"
      },
      "execution_count": null,
      "outputs": []
    },
    {
      "cell_type": "code",
      "source": [
        "img"
      ],
      "metadata": {
        "colab": {
          "base_uri": "https://localhost:8080/",
          "height": 158
        },
        "id": "2bj4Y5xOx--u",
        "outputId": "1e312295-c23b-4d52-81cf-feca54bd5518"
      },
      "execution_count": 23,
      "outputs": [
        {
          "output_type": "execute_result",
          "data": {
            "text/plain": [
              "<PIL.PngImagePlugin.PngImageFile image mode=RGB size=134x141>"
            ],
            "image/png": "[encoded data removed]"
          },
          "metadata": {},
          "execution_count": 23
        }
      ]
    },
    {
      "cell_type": "code",
      "source": [
        "import torch\n",
        "import torchvision\n",
        "\n",
        "import sys\n",
        "!{sys.executable} -m pip install opencv-python matplotlib\n",
        "!{sys.executable} -m pip install 'git+https://github.com/facebookresearch/segment-anything.git'\n",
        "\n",
        "!wget https://dl.fbaipublicfiles.com/segment_anything/sam_vit_h_4b8939.pth"
      ],
      "metadata": {
        "id": "i36oJMlJz7eU"
      },
      "execution_count": null,
      "outputs": []
    },
    {
      "cell_type": "code",
      "source": [
        "import numpy as np\n",
        "import torch\n",
        "import matplotlib.pyplot as plt\n",
        "import cv2"
      ],
      "metadata": {
        "id": "VdYTzkTi0Bhh"
      },
      "execution_count": null,
      "outputs": []
    },
    {
      "cell_type": "code",
      "source": [
        "image = cv2.imread(tmpfile.name)\n",
        "image = cv2.cvtColor(image, cv2.COLOR_BGR2RGB)"
      ],
      "metadata": {
        "id": "LEURmX7Z0F6g"
      },
      "execution_count": 27,
      "outputs": []
    },
    {
      "cell_type": "code",
      "source": [
        "import sys\n",
        "sys.path.append(\"..\")\n",
        "from segment_anything import sam_model_registry, SamAutomaticMaskGenerator, SamPredictor\n",
        "\n",
        "sam_checkpoint = \"sam_vit_h_4b8939.pth\"\n",
        "model_type = \"vit_h\"\n",
        "\n",
        "device = \"cuda\"\n",
        "\n",
        "sam = sam_model_registry[model_type](checkpoint=sam_checkpoint)\n",
        "sam.to(device=device)\n",
        "\n",
        "mask_generator = SamAutomaticMaskGenerator(sam)"
      ],
      "metadata": {
        "id": "C5ZyAtPa0SzN"
      },
      "execution_count": 29,
      "outputs": []
    },
    {
      "cell_type": "code",
      "source": [
        "masks = mask_generator.generate(image)"
      ],
      "metadata": {
        "id": "LrmvmNCx0WjU"
      },
      "execution_count": 30,
      "outputs": []
    },
    {
      "cell_type": "code",
      "source": [
        "masks"
      ],
      "metadata": {
        "id": "R_KFCRjZ0cIo"
      },
      "execution_count": null,
      "outputs": []
    },
    {
      "cell_type": "code",
      "source": [
        "def show_anns(anns):\n",
        "    if len(anns) == 0:\n",
        "        return\n",
        "    sorted_anns = sorted(anns, key=(lambda x: x['area']), reverse=True)\n",
        "    ax = plt.gca()\n",
        "    ax.set_autoscale_on(False)\n",
        "\n",
        "    img = np.ones((sorted_anns[0]['segmentation'].shape[0], sorted_anns[0]['segmentation'].shape[1], 4))\n",
        "    img[:,:,3] = 0\n",
        "    for ann in sorted_anns:\n",
        "        m = ann['segmentation']\n",
        "        color_mask = np.concatenate([np.random.random(3), [0.35]])\n",
        "        img[m] = color_mask\n",
        "    ax.imshow(img)"
      ],
      "metadata": {
        "id": "KdYA9vCv0o5h"
      },
      "execution_count": 33,
      "outputs": []
    },
    {
      "cell_type": "code",
      "source": [
        "plt.figure(figsize=(20,20))\n",
        "plt.imshow(image)\n",
        "show_anns(masks)\n",
        "plt.axis('off')\n",
        "plt.show()"
      ],
      "metadata": {
        "id": "MPxNPTWF0jeJ"
      },
      "execution_count": null,
      "outputs": []
    },
    {
      "cell_type": "code",
      "source": [
        "image.shape"
      ],
      "metadata": {
        "colab": {
          "base_uri": "https://localhost:8080/"
        },
        "id": "4RvnW9g504nD",
        "outputId": "5ca12d0a-644c-416f-b7f7-cdeca2a8ddee"
      },
      "execution_count": 38,
      "outputs": [
        {
          "output_type": "execute_result",
          "data": {
            "text/plain": [
              "(141, 134, 3)"
            ]
          },
          "metadata": {},
          "execution_count": 38
        }
      ]
    },
    {
      "cell_type": "code",
      "source": [
        "masks[1]['area']"
      ],
      "metadata": {
        "colab": {
          "base_uri": "https://localhost:8080/"
        },
        "id": "nGsgkEkY1BjZ",
        "outputId": "dcd5ef45-b8f1-4973-e473-f1fb3c1130df"
      },
      "execution_count": 47,
      "outputs": [
        {
          "output_type": "execute_result",
          "data": {
            "text/plain": [
              "10710"
            ]
          },
          "metadata": {},
          "execution_count": 47
        }
      ]
    },
    {
      "cell_type": "code",
      "source": [
        "plt.imshow(masks[1]['segmentation'])"
      ],
      "metadata": {
        "colab": {
          "base_uri": "https://localhost:8080/",
          "height": 452
        },
        "id": "ToM9N5st0slA",
        "outputId": "df04896f-521d-49da-8a88-969c6b3791ad"
      },
      "execution_count": 44,
      "outputs": [
        {
          "output_type": "execute_result",
          "data": {
            "text/plain": [
              "<matplotlib.image.AxesImage at 0x7af9a0349510>"
            ]
          },
          "metadata": {},
          "execution_count": 44
        },
        {
          "output_type": "display_data",
          "data": {
            "text/plain": [
              "<Figure size 640x480 with 1 Axes>"
            ],
            "image/png": "[encoded data removed]"
          },
          "metadata": {}
        }
      ]
    },
    {
      "cell_type": "code",
      "source": [
        "mask = Image.fromarray( masks[1]['segmentation'] ).convert(\"RGB\")"
      ],
      "metadata": {
        "id": "ZbxwU2K43J9_"
      },
      "execution_count": 74,
      "outputs": []
    },
    {
      "cell_type": "code",
      "source": [
        "with tempfile.NamedTemporaryFile(suffix='.png', delete=False) as maskfile:\n",
        "    mask.save(maskfile, format='PNG')"
      ],
      "metadata": {
        "id": "f6QgabHk1Mn-"
      },
      "execution_count": 75,
      "outputs": []
    },
    {
      "cell_type": "code",
      "source": [
        "mask = Image.open(\"/content/ShadowAttack/tmp/gtsrb_30_mask.png\")\n",
        "print(np.array(mask).shape)"
      ],
      "metadata": {
        "colab": {
          "base_uri": "https://localhost:8080/"
        },
        "id": "pEx5fAy02Nrc",
        "outputId": "fc77f52b-7021-417c-be4d-c1671f24651f"
      },
      "execution_count": 77,
      "outputs": [
        {
          "output_type": "stream",
          "name": "stdout",
          "text": [
            "(240, 240, 3)\n"
          ]
        }
      ]
    },
    {
      "cell_type": "code",
      "source": [
        "mask = Image.open(maskfile.name)\n",
        "print(np.array(mask).shape)"
      ],
      "metadata": {
        "colab": {
          "base_uri": "https://localhost:8080/"
        },
        "id": "-m-niibp2mGc",
        "outputId": "42c7c4a6-f101-450b-d86e-bfe8513a2170"
      },
      "execution_count": 78,
      "outputs": [
        {
          "output_type": "stream",
          "name": "stdout",
          "text": [
            "(141, 134, 3)\n"
          ]
        }
      ]
    },
    {
      "cell_type": "code",
      "source": [
        "print(label)\n",
        "print(maskfile.name)\n",
        "print(tmpfile.name)"
      ],
      "metadata": {
        "colab": {
          "base_uri": "https://localhost:8080/"
        },
        "id": "xAGdpSdq4U0U",
        "outputId": "5dba9c85-8067-470d-df7f-9040a4c01651"
      },
      "execution_count": 81,
      "outputs": [
        {
          "output_type": "stream",
          "name": "stdout",
          "text": [
            "1\n",
            "/tmp/tmp76r0qrj9.png\n",
            "/tmp/tmp11jbo_23.png\n"
          ]
        }
      ]
    },
    {
      "cell_type": "code",
      "source": [
        "print(tmpfile.name)"
      ],
      "metadata": {
        "colab": {
          "base_uri": "https://localhost:8080/"
        },
        "id": "2ZD9uAId5FH1",
        "outputId": "e975f7e2-1a7d-4cb3-de4f-46561fbe1a83"
      },
      "execution_count": 84,
      "outputs": [
        {
          "output_type": "stream",
          "name": "stdout",
          "text": [
            "/tmp/tmp11jbo_23.png\n"
          ]
        }
      ]
    },
    {
      "cell_type": "code",
      "source": [
        "!python shadow_attack.py --shadow_level 0.43 --attack_db GTSRB --attack_type physical --image_path /tmp/tmp11jbo_23.png --mask_path /tmp/tmp76r0qrj9.png --image_label 1"
      ],
      "metadata": {
        "id": "zbjgh-Zq1KIG"
      },
      "execution_count": null,
      "outputs": []
    },
    {
      "cell_type": "code",
      "source": [
        "## Step 4: Run the model on the adversarially modified image to show that the attack worked"
      ],
      "metadata": {
        "id": "NoSolNcyymMc"
      },
      "execution_count": 19,
      "outputs": []
    },
    {
      "cell_type": "code",
      "source": [
        "test_single_image(\"./tmp/adv_img.png\", label)"
      ],
      "metadata": {
        "colab": {
          "base_uri": "https://localhost:8080/"
        },
        "id": "ZZpm381w5fUB",
        "outputId": "6b7c3926-b9a3-4aed-866a-3c16da771e50"
      },
      "execution_count": 87,
      "outputs": [
        {
          "output_type": "stream",
          "name": "stdout",
          "text": [
            "Correct: False Predict: 40 Confidence: 24.87131506204605%\n"
          ]
        },
        {
          "output_type": "execute_result",
          "data": {
            "text/plain": [
              "(40, False)"
            ]
          },
          "metadata": {},
          "execution_count": 87
        }
      ]
    },
    {
      "cell_type": "code",
      "source": [
        "# Done! Now I need to clean and get explainations working"
      ],
      "metadata": {
        "id": "TloViF2t5uSf"
      },
      "execution_count": null,
      "outputs": []
    }
  ]
}
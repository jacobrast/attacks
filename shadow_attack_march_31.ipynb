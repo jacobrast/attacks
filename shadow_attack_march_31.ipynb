{
  "nbformat": 4,
  "nbformat_minor": 0,
  "metadata": {
    "colab": {
      "provenance": [],
      "gpuType": "T4",
      "authorship_tag": "ABX9TyNIiGZ/FYxZ7MBvWmArjS1u",
      "include_colab_link": true
    },
    "kernelspec": {
      "name": "python3",
      "display_name": "Python 3"
    },
    "language_info": {
      "name": "python"
    },
    "accelerator": "GPU",
    "widgets": {
      "application/vnd.jupyter.widget-state+json": {
        "850b26ad70804c268b9ccb24906da959": {
          "model_module": "@jupyter-widgets/controls",
          "model_name": "HBoxModel",
          "model_module_version": "1.5.0",
          "state": {
            "_dom_classes": [],
            "_model_module": "@jupyter-widgets/controls",
            "_model_module_version": "1.5.0",
            "_model_name": "HBoxModel",
            "_view_count": null,
            "_view_module": "@jupyter-widgets/controls",
            "_view_module_version": "1.5.0",
            "_view_name": "HBoxView",
            "box_style": "",
            "children": [
              "IPY_MODEL_fb622e27b5d0433591355d02f2023551",
              "IPY_MODEL_5db39384548a4912a6fcec9a2245e6d9",
              "IPY_MODEL_c2173889fff54a2aa39a85620ab382fb"
            ],
            "layout": "IPY_MODEL_d2366eb12cfb4ab88c22b6825d81da0d"
          }
        },
        "fb622e27b5d0433591355d02f2023551": {
          "model_module": "@jupyter-widgets/controls",
          "model_name": "HTMLModel",
          "model_module_version": "1.5.0",
          "state": {
            "_dom_classes": [],
            "_model_module": "@jupyter-widgets/controls",
            "_model_module_version": "1.5.0",
            "_model_name": "HTMLModel",
            "_view_count": null,
            "_view_module": "@jupyter-widgets/controls",
            "_view_module_version": "1.5.0",
            "_view_name": "HTMLView",
            "description": "",
            "description_tooltip": null,
            "layout": "IPY_MODEL_c60890bc93734799babc0b5933dc15c1",
            "placeholder": "​",
            "style": "IPY_MODEL_581efad0cf1d47f1b08b112cf22be353",
            "value": "Downloading readme: 100%"
          }
        },
        "5db39384548a4912a6fcec9a2245e6d9": {
          "model_module": "@jupyter-widgets/controls",
          "model_name": "FloatProgressModel",
          "model_module_version": "1.5.0",
          "state": {
            "_dom_classes": [],
            "_model_module": "@jupyter-widgets/controls",
            "_model_module_version": "1.5.0",
            "_model_name": "FloatProgressModel",
            "_view_count": null,
            "_view_module": "@jupyter-widgets/controls",
            "_view_module_version": "1.5.0",
            "_view_name": "ProgressView",
            "bar_style": "success",
            "description": "",
            "description_tooltip": null,
            "layout": "IPY_MODEL_4387d64e7721416baa7f911d1221420f",
            "max": 4829,
            "min": 0,
            "orientation": "horizontal",
            "style": "IPY_MODEL_b191f53f685e45e3b2b7725a987796d1",
            "value": 4829
          }
        },
        "c2173889fff54a2aa39a85620ab382fb": {
          "model_module": "@jupyter-widgets/controls",
          "model_name": "HTMLModel",
          "model_module_version": "1.5.0",
          "state": {
            "_dom_classes": [],
            "_model_module": "@jupyter-widgets/controls",
            "_model_module_version": "1.5.0",
            "_model_name": "HTMLModel",
            "_view_count": null,
            "_view_module": "@jupyter-widgets/controls",
            "_view_module_version": "1.5.0",
            "_view_name": "HTMLView",
            "description": "",
            "description_tooltip": null,
            "layout": "IPY_MODEL_46f84b02787843458920f98a84e4a5de",
            "placeholder": "​",
            "style": "IPY_MODEL_171881c1168c4c4d9e9481f666c2b33c",
            "value": " 4.83k/4.83k [00:00&lt;00:00, 308kB/s]"
          }
        },
        "d2366eb12cfb4ab88c22b6825d81da0d": {
          "model_module": "@jupyter-widgets/base",
          "model_name": "LayoutModel",
          "model_module_version": "1.2.0",
          "state": {
            "_model_module": "@jupyter-widgets/base",
            "_model_module_version": "1.2.0",
            "_model_name": "LayoutModel",
            "_view_count": null,
            "_view_module": "@jupyter-widgets/base",
            "_view_module_version": "1.2.0",
            "_view_name": "LayoutView",
            "align_content": null,
            "align_items": null,
            "align_self": null,
            "border": null,
            "bottom": null,
            "display": null,
            "flex": null,
            "flex_flow": null,
            "grid_area": null,
            "grid_auto_columns": null,
            "grid_auto_flow": null,
            "grid_auto_rows": null,
            "grid_column": null,
            "grid_gap": null,
            "grid_row": null,
            "grid_template_areas": null,
            "grid_template_columns": null,
            "grid_template_rows": null,
            "height": null,
            "justify_content": null,
            "justify_items": null,
            "left": null,
            "margin": null,
            "max_height": null,
            "max_width": null,
            "min_height": null,
            "min_width": null,
            "object_fit": null,
            "object_position": null,
            "order": null,
            "overflow": null,
            "overflow_x": null,
            "overflow_y": null,
            "padding": null,
            "right": null,
            "top": null,
            "visibility": null,
            "width": null
          }
        },
        "c60890bc93734799babc0b5933dc15c1": {
          "model_module": "@jupyter-widgets/base",
          "model_name": "LayoutModel",
          "model_module_version": "1.2.0",
          "state": {
            "_model_module": "@jupyter-widgets/base",
            "_model_module_version": "1.2.0",
            "_model_name": "LayoutModel",
            "_view_count": null,
            "_view_module": "@jupyter-widgets/base",
            "_view_module_version": "1.2.0",
            "_view_name": "LayoutView",
            "align_content": null,
            "align_items": null,
            "align_self": null,
            "border": null,
            "bottom": null,
            "display": null,
            "flex": null,
            "flex_flow": null,
            "grid_area": null,
            "grid_auto_columns": null,
            "grid_auto_flow": null,
            "grid_auto_rows": null,
            "grid_column": null,
            "grid_gap": null,
            "grid_row": null,
            "grid_template_areas": null,
            "grid_template_columns": null,
            "grid_template_rows": null,
            "height": null,
            "justify_content": null,
            "justify_items": null,
            "left": null,
            "margin": null,
            "max_height": null,
            "max_width": null,
            "min_height": null,
            "min_width": null,
            "object_fit": null,
            "object_position": null,
            "order": null,
            "overflow": null,
            "overflow_x": null,
            "overflow_y": null,
            "padding": null,
            "right": null,
            "top": null,
            "visibility": null,
            "width": null
          }
        },
        "581efad0cf1d47f1b08b112cf22be353": {
          "model_module": "@jupyter-widgets/controls",
          "model_name": "DescriptionStyleModel",
          "model_module_version": "1.5.0",
          "state": {
            "_model_module": "@jupyter-widgets/controls",
            "_model_module_version": "1.5.0",
            "_model_name": "DescriptionStyleModel",
            "_view_count": null,
            "_view_module": "@jupyter-widgets/base",
            "_view_module_version": "1.2.0",
            "_view_name": "StyleView",
            "description_width": ""
          }
        },
        "4387d64e7721416baa7f911d1221420f": {
          "model_module": "@jupyter-widgets/base",
          "model_name": "LayoutModel",
          "model_module_version": "1.2.0",
          "state": {
            "_model_module": "@jupyter-widgets/base",
            "_model_module_version": "1.2.0",
            "_model_name": "LayoutModel",
            "_view_count": null,
            "_view_module": "@jupyter-widgets/base",
            "_view_module_version": "1.2.0",
            "_view_name": "LayoutView",
            "align_content": null,
            "align_items": null,
            "align_self": null,
            "border": null,
            "bottom": null,
            "display": null,
            "flex": null,
            "flex_flow": null,
            "grid_area": null,
            "grid_auto_columns": null,
            "grid_auto_flow": null,
            "grid_auto_rows": null,
            "grid_column": null,
            "grid_gap": null,
            "grid_row": null,
            "grid_template_areas": null,
            "grid_template_columns": null,
            "grid_template_rows": null,
            "height": null,
            "justify_content": null,
            "justify_items": null,
            "left": null,
            "margin": null,
            "max_height": null,
            "max_width": null,
            "min_height": null,
            "min_width": null,
            "object_fit": null,
            "object_position": null,
            "order": null,
            "overflow": null,
            "overflow_x": null,
            "overflow_y": null,
            "padding": null,
            "right": null,
            "top": null,
            "visibility": null,
            "width": null
          }
        },
        "b191f53f685e45e3b2b7725a987796d1": {
          "model_module": "@jupyter-widgets/controls",
          "model_name": "ProgressStyleModel",
          "model_module_version": "1.5.0",
          "state": {
            "_model_module": "@jupyter-widgets/controls",
            "_model_module_version": "1.5.0",
            "_model_name": "ProgressStyleModel",
            "_view_count": null,
            "_view_module": "@jupyter-widgets/base",
            "_view_module_version": "1.2.0",
            "_view_name": "StyleView",
            "bar_color": null,
            "description_width": ""
          }
        },
        "46f84b02787843458920f98a84e4a5de": {
          "model_module": "@jupyter-widgets/base",
          "model_name": "LayoutModel",
          "model_module_version": "1.2.0",
          "state": {
            "_model_module": "@jupyter-widgets/base",
            "_model_module_version": "1.2.0",
            "_model_name": "LayoutModel",
            "_view_count": null,
            "_view_module": "@jupyter-widgets/base",
            "_view_module_version": "1.2.0",
            "_view_name": "LayoutView",
            "align_content": null,
            "align_items": null,
            "align_self": null,
            "border": null,
            "bottom": null,
            "display": null,
            "flex": null,
            "flex_flow": null,
            "grid_area": null,
            "grid_auto_columns": null,
            "grid_auto_flow": null,
            "grid_auto_rows": null,
            "grid_column": null,
            "grid_gap": null,
            "grid_row": null,
            "grid_template_areas": null,
            "grid_template_columns": null,
            "grid_template_rows": null,
            "height": null,
            "justify_content": null,
            "justify_items": null,
            "left": null,
            "margin": null,
            "max_height": null,
            "max_width": null,
            "min_height": null,
            "min_width": null,
            "object_fit": null,
            "object_position": null,
            "order": null,
            "overflow": null,
            "overflow_x": null,
            "overflow_y": null,
            "padding": null,
            "right": null,
            "top": null,
            "visibility": null,
            "width": null
          }
        },
        "171881c1168c4c4d9e9481f666c2b33c": {
          "model_module": "@jupyter-widgets/controls",
          "model_name": "DescriptionStyleModel",
          "model_module_version": "1.5.0",
          "state": {
            "_model_module": "@jupyter-widgets/controls",
            "_model_module_version": "1.5.0",
            "_model_name": "DescriptionStyleModel",
            "_view_count": null,
            "_view_module": "@jupyter-widgets/base",
            "_view_module_version": "1.2.0",
            "_view_name": "StyleView",
            "description_width": ""
          }
        },
        "d9f80912a0cf40ca9395081112f8408e": {
          "model_module": "@jupyter-widgets/controls",
          "model_name": "HBoxModel",
          "model_module_version": "1.5.0",
          "state": {
            "_dom_classes": [],
            "_model_module": "@jupyter-widgets/controls",
            "_model_module_version": "1.5.0",
            "_model_name": "HBoxModel",
            "_view_count": null,
            "_view_module": "@jupyter-widgets/controls",
            "_view_module_version": "1.5.0",
            "_view_name": "HBoxView",
            "box_style": "",
            "children": [
              "IPY_MODEL_50e3800a9fcd48729ca8b04e8c3335b6",
              "IPY_MODEL_fc3ea578327740d6a37c7873fdae15c2",
              "IPY_MODEL_8bef4cb42668408eaa72a6128b6dce97"
            ],
            "layout": "IPY_MODEL_acab956893cb4b03898f0ad9e87a8b96"
          }
        },
        "50e3800a9fcd48729ca8b04e8c3335b6": {
          "model_module": "@jupyter-widgets/controls",
          "model_name": "HTMLModel",
          "model_module_version": "1.5.0",
          "state": {
            "_dom_classes": [],
            "_model_module": "@jupyter-widgets/controls",
            "_model_module_version": "1.5.0",
            "_model_name": "HTMLModel",
            "_view_count": null,
            "_view_module": "@jupyter-widgets/controls",
            "_view_module_version": "1.5.0",
            "_view_name": "HTMLView",
            "description": "",
            "description_tooltip": null,
            "layout": "IPY_MODEL_fe017f0c9b5f4be193e43561a88d79fb",
            "placeholder": "​",
            "style": "IPY_MODEL_2c29f7a5e89d4cfe84e5f3cb41eedf6b",
            "value": "Downloading metadata: 100%"
          }
        },
        "fc3ea578327740d6a37c7873fdae15c2": {
          "model_module": "@jupyter-widgets/controls",
          "model_name": "FloatProgressModel",
          "model_module_version": "1.5.0",
          "state": {
            "_dom_classes": [],
            "_model_module": "@jupyter-widgets/controls",
            "_model_module_version": "1.5.0",
            "_model_name": "FloatProgressModel",
            "_view_count": null,
            "_view_module": "@jupyter-widgets/controls",
            "_view_module_version": "1.5.0",
            "_view_name": "ProgressView",
            "bar_style": "success",
            "description": "",
            "description_tooltip": null,
            "layout": "IPY_MODEL_e549724845ac4275a97850233282dbee",
            "max": 3456,
            "min": 0,
            "orientation": "horizontal",
            "style": "IPY_MODEL_99b8d90456854e3f97c98017d8945e41",
            "value": 3456
          }
        },
        "8bef4cb42668408eaa72a6128b6dce97": {
          "model_module": "@jupyter-widgets/controls",
          "model_name": "HTMLModel",
          "model_module_version": "1.5.0",
          "state": {
            "_dom_classes": [],
            "_model_module": "@jupyter-widgets/controls",
            "_model_module_version": "1.5.0",
            "_model_name": "HTMLModel",
            "_view_count": null,
            "_view_module": "@jupyter-widgets/controls",
            "_view_module_version": "1.5.0",
            "_view_name": "HTMLView",
            "description": "",
            "description_tooltip": null,
            "layout": "IPY_MODEL_e205a84c48284ae090233d749e45877b",
            "placeholder": "​",
            "style": "IPY_MODEL_c61dccfef8d1415b99ac0743fedc21f7",
            "value": " 3.46k/3.46k [00:00&lt;00:00, 155kB/s]"
          }
        },
        "acab956893cb4b03898f0ad9e87a8b96": {
          "model_module": "@jupyter-widgets/base",
          "model_name": "LayoutModel",
          "model_module_version": "1.2.0",
          "state": {
            "_model_module": "@jupyter-widgets/base",
            "_model_module_version": "1.2.0",
            "_model_name": "LayoutModel",
            "_view_count": null,
            "_view_module": "@jupyter-widgets/base",
            "_view_module_version": "1.2.0",
            "_view_name": "LayoutView",
            "align_content": null,
            "align_items": null,
            "align_self": null,
            "border": null,
            "bottom": null,
            "display": null,
            "flex": null,
            "flex_flow": null,
            "grid_area": null,
            "grid_auto_columns": null,
            "grid_auto_flow": null,
            "grid_auto_rows": null,
            "grid_column": null,
            "grid_gap": null,
            "grid_row": null,
            "grid_template_areas": null,
            "grid_template_columns": null,
            "grid_template_rows": null,
            "height": null,
            "justify_content": null,
            "justify_items": null,
            "left": null,
            "margin": null,
            "max_height": null,
            "max_width": null,
            "min_height": null,
            "min_width": null,
            "object_fit": null,
            "object_position": null,
            "order": null,
            "overflow": null,
            "overflow_x": null,
            "overflow_y": null,
            "padding": null,
            "right": null,
            "top": null,
            "visibility": null,
            "width": null
          }
        },
        "fe017f0c9b5f4be193e43561a88d79fb": {
          "model_module": "@jupyter-widgets/base",
          "model_name": "LayoutModel",
          "model_module_version": "1.2.0",
          "state": {
            "_model_module": "@jupyter-widgets/base",
            "_model_module_version": "1.2.0",
            "_model_name": "LayoutModel",
            "_view_count": null,
            "_view_module": "@jupyter-widgets/base",
            "_view_module_version": "1.2.0",
            "_view_name": "LayoutView",
            "align_content": null,
            "align_items": null,
            "align_self": null,
            "border": null,
            "bottom": null,
            "display": null,
            "flex": null,
            "flex_flow": null,
            "grid_area": null,
            "grid_auto_columns": null,
            "grid_auto_flow": null,
            "grid_auto_rows": null,
            "grid_column": null,
            "grid_gap": null,
            "grid_row": null,
            "grid_template_areas": null,
            "grid_template_columns": null,
            "grid_template_rows": null,
            "height": null,
            "justify_content": null,
            "justify_items": null,
            "left": null,
            "margin": null,
            "max_height": null,
            "max_width": null,
            "min_height": null,
            "min_width": null,
            "object_fit": null,
            "object_position": null,
            "order": null,
            "overflow": null,
            "overflow_x": null,
            "overflow_y": null,
            "padding": null,
            "right": null,
            "top": null,
            "visibility": null,
            "width": null
          }
        },
        "2c29f7a5e89d4cfe84e5f3cb41eedf6b": {
          "model_module": "@jupyter-widgets/controls",
          "model_name": "DescriptionStyleModel",
          "model_module_version": "1.5.0",
          "state": {
            "_model_module": "@jupyter-widgets/controls",
            "_model_module_version": "1.5.0",
            "_model_name": "DescriptionStyleModel",
            "_view_count": null,
            "_view_module": "@jupyter-widgets/base",
            "_view_module_version": "1.2.0",
            "_view_name": "StyleView",
            "description_width": ""
          }
        },
        "e549724845ac4275a97850233282dbee": {
          "model_module": "@jupyter-widgets/base",
          "model_name": "LayoutModel",
          "model_module_version": "1.2.0",
          "state": {
            "_model_module": "@jupyter-widgets/base",
            "_model_module_version": "1.2.0",
            "_model_name": "LayoutModel",
            "_view_count": null,
            "_view_module": "@jupyter-widgets/base",
            "_view_module_version": "1.2.0",
            "_view_name": "LayoutView",
            "align_content": null,
            "align_items": null,
            "align_self": null,
            "border": null,
            "bottom": null,
            "display": null,
            "flex": null,
            "flex_flow": null,
            "grid_area": null,
            "grid_auto_columns": null,
            "grid_auto_flow": null,
            "grid_auto_rows": null,
            "grid_column": null,
            "grid_gap": null,
            "grid_row": null,
            "grid_template_areas": null,
            "grid_template_columns": null,
            "grid_template_rows": null,
            "height": null,
            "justify_content": null,
            "justify_items": null,
            "left": null,
            "margin": null,
            "max_height": null,
            "max_width": null,
            "min_height": null,
            "min_width": null,
            "object_fit": null,
            "object_position": null,
            "order": null,
            "overflow": null,
            "overflow_x": null,
            "overflow_y": null,
            "padding": null,
            "right": null,
            "top": null,
            "visibility": null,
            "width": null
          }
        },
        "99b8d90456854e3f97c98017d8945e41": {
          "model_module": "@jupyter-widgets/controls",
          "model_name": "ProgressStyleModel",
          "model_module_version": "1.5.0",
          "state": {
            "_model_module": "@jupyter-widgets/controls",
            "_model_module_version": "1.5.0",
            "_model_name": "ProgressStyleModel",
            "_view_count": null,
            "_view_module": "@jupyter-widgets/base",
            "_view_module_version": "1.2.0",
            "_view_name": "StyleView",
            "bar_color": null,
            "description_width": ""
          }
        },
        "e205a84c48284ae090233d749e45877b": {
          "model_module": "@jupyter-widgets/base",
          "model_name": "LayoutModel",
          "model_module_version": "1.2.0",
          "state": {
            "_model_module": "@jupyter-widgets/base",
            "_model_module_version": "1.2.0",
            "_model_name": "LayoutModel",
            "_view_count": null,
            "_view_module": "@jupyter-widgets/base",
            "_view_module_version": "1.2.0",
            "_view_name": "LayoutView",
            "align_content": null,
            "align_items": null,
            "align_self": null,
            "border": null,
            "bottom": null,
            "display": null,
            "flex": null,
            "flex_flow": null,
            "grid_area": null,
            "grid_auto_columns": null,
            "grid_auto_flow": null,
            "grid_auto_rows": null,
            "grid_column": null,
            "grid_gap": null,
            "grid_row": null,
            "grid_template_areas": null,
            "grid_template_columns": null,
            "grid_template_rows": null,
            "height": null,
            "justify_content": null,
            "justify_items": null,
            "left": null,
            "margin": null,
            "max_height": null,
            "max_width": null,
            "min_height": null,
            "min_width": null,
            "object_fit": null,
            "object_position": null,
            "order": null,
            "overflow": null,
            "overflow_x": null,
            "overflow_y": null,
            "padding": null,
            "right": null,
            "top": null,
            "visibility": null,
            "width": null
          }
        },
        "c61dccfef8d1415b99ac0743fedc21f7": {
          "model_module": "@jupyter-widgets/controls",
          "model_name": "DescriptionStyleModel",
          "model_module_version": "1.5.0",
          "state": {
            "_model_module": "@jupyter-widgets/controls",
            "_model_module_version": "1.5.0",
            "_model_name": "DescriptionStyleModel",
            "_view_count": null,
            "_view_module": "@jupyter-widgets/base",
            "_view_module_version": "1.2.0",
            "_view_name": "StyleView",
            "description_width": ""
          }
        },
        "4b1f6cd37e464bb7a499abe8069c5132": {
          "model_module": "@jupyter-widgets/controls",
          "model_name": "HBoxModel",
          "model_module_version": "1.5.0",
          "state": {
            "_dom_classes": [],
            "_model_module": "@jupyter-widgets/controls",
            "_model_module_version": "1.5.0",
            "_model_name": "HBoxModel",
            "_view_count": null,
            "_view_module": "@jupyter-widgets/controls",
            "_view_module_version": "1.5.0",
            "_view_name": "HBoxView",
            "box_style": "",
            "children": [
              "IPY_MODEL_e8a044e74ed54dfcb8e788f877ca71dd",
              "IPY_MODEL_990f8d20f5274a28bbd88f10baa3c588",
              "IPY_MODEL_f8bf5a8ff7b141caa82eb083ebd1362d"
            ],
            "layout": "IPY_MODEL_49b6ccb6a7b7485fb58a8c91e2d2dfb0"
          }
        },
        "e8a044e74ed54dfcb8e788f877ca71dd": {
          "model_module": "@jupyter-widgets/controls",
          "model_name": "HTMLModel",
          "model_module_version": "1.5.0",
          "state": {
            "_dom_classes": [],
            "_model_module": "@jupyter-widgets/controls",
            "_model_module_version": "1.5.0",
            "_model_name": "HTMLModel",
            "_view_count": null,
            "_view_module": "@jupyter-widgets/controls",
            "_view_module_version": "1.5.0",
            "_view_name": "HTMLView",
            "description": "",
            "description_tooltip": null,
            "layout": "IPY_MODEL_9705bcb1eff14f3791c6198abe1a219d",
            "placeholder": "​",
            "style": "IPY_MODEL_4868df6227cb461aad547043270497cb",
            "value": "Downloading data: 100%"
          }
        },
        "990f8d20f5274a28bbd88f10baa3c588": {
          "model_module": "@jupyter-widgets/controls",
          "model_name": "FloatProgressModel",
          "model_module_version": "1.5.0",
          "state": {
            "_dom_classes": [],
            "_model_module": "@jupyter-widgets/controls",
            "_model_module_version": "1.5.0",
            "_model_name": "FloatProgressModel",
            "_view_count": null,
            "_view_module": "@jupyter-widgets/controls",
            "_view_module_version": "1.5.0",
            "_view_name": "ProgressView",
            "bar_style": "success",
            "description": "",
            "description_tooltip": null,
            "layout": "IPY_MODEL_9e4d61d99fcf4017a984d22d15455794",
            "max": 236068919,
            "min": 0,
            "orientation": "horizontal",
            "style": "IPY_MODEL_1833ae46f8a04e75949e3dc9454509d6",
            "value": 236068919
          }
        },
        "f8bf5a8ff7b141caa82eb083ebd1362d": {
          "model_module": "@jupyter-widgets/controls",
          "model_name": "HTMLModel",
          "model_module_version": "1.5.0",
          "state": {
            "_dom_classes": [],
            "_model_module": "@jupyter-widgets/controls",
            "_model_module_version": "1.5.0",
            "_model_name": "HTMLModel",
            "_view_count": null,
            "_view_module": "@jupyter-widgets/controls",
            "_view_module_version": "1.5.0",
            "_view_name": "HTMLView",
            "description": "",
            "description_tooltip": null,
            "layout": "IPY_MODEL_7bf16ce8a0f6416c95067ded41aed774",
            "placeholder": "​",
            "style": "IPY_MODEL_751c0cf11d464bd383a14b270bd0e87a",
            "value": " 236M/236M [00:42&lt;00:00, 5.39MB/s]"
          }
        },
        "49b6ccb6a7b7485fb58a8c91e2d2dfb0": {
          "model_module": "@jupyter-widgets/base",
          "model_name": "LayoutModel",
          "model_module_version": "1.2.0",
          "state": {
            "_model_module": "@jupyter-widgets/base",
            "_model_module_version": "1.2.0",
            "_model_name": "LayoutModel",
            "_view_count": null,
            "_view_module": "@jupyter-widgets/base",
            "_view_module_version": "1.2.0",
            "_view_name": "LayoutView",
            "align_content": null,
            "align_items": null,
            "align_self": null,
            "border": null,
            "bottom": null,
            "display": null,
            "flex": null,
            "flex_flow": null,
            "grid_area": null,
            "grid_auto_columns": null,
            "grid_auto_flow": null,
            "grid_auto_rows": null,
            "grid_column": null,
            "grid_gap": null,
            "grid_row": null,
            "grid_template_areas": null,
            "grid_template_columns": null,
            "grid_template_rows": null,
            "height": null,
            "justify_content": null,
            "justify_items": null,
            "left": null,
            "margin": null,
            "max_height": null,
            "max_width": null,
            "min_height": null,
            "min_width": null,
            "object_fit": null,
            "object_position": null,
            "order": null,
            "overflow": null,
            "overflow_x": null,
            "overflow_y": null,
            "padding": null,
            "right": null,
            "top": null,
            "visibility": null,
            "width": null
          }
        },
        "9705bcb1eff14f3791c6198abe1a219d": {
          "model_module": "@jupyter-widgets/base",
          "model_name": "LayoutModel",
          "model_module_version": "1.2.0",
          "state": {
            "_model_module": "@jupyter-widgets/base",
            "_model_module_version": "1.2.0",
            "_model_name": "LayoutModel",
            "_view_count": null,
            "_view_module": "@jupyter-widgets/base",
            "_view_module_version": "1.2.0",
            "_view_name": "LayoutView",
            "align_content": null,
            "align_items": null,
            "align_self": null,
            "border": null,
            "bottom": null,
            "display": null,
            "flex": null,
            "flex_flow": null,
            "grid_area": null,
            "grid_auto_columns": null,
            "grid_auto_flow": null,
            "grid_auto_rows": null,
            "grid_column": null,
            "grid_gap": null,
            "grid_row": null,
            "grid_template_areas": null,
            "grid_template_columns": null,
            "grid_template_rows": null,
            "height": null,
            "justify_content": null,
            "justify_items": null,
            "left": null,
            "margin": null,
            "max_height": null,
            "max_width": null,
            "min_height": null,
            "min_width": null,
            "object_fit": null,
            "object_position": null,
            "order": null,
            "overflow": null,
            "overflow_x": null,
            "overflow_y": null,
            "padding": null,
            "right": null,
            "top": null,
            "visibility": null,
            "width": null
          }
        },
        "4868df6227cb461aad547043270497cb": {
          "model_module": "@jupyter-widgets/controls",
          "model_name": "DescriptionStyleModel",
          "model_module_version": "1.5.0",
          "state": {
            "_model_module": "@jupyter-widgets/controls",
            "_model_module_version": "1.5.0",
            "_model_name": "DescriptionStyleModel",
            "_view_count": null,
            "_view_module": "@jupyter-widgets/base",
            "_view_module_version": "1.2.0",
            "_view_name": "StyleView",
            "description_width": ""
          }
        },
        "9e4d61d99fcf4017a984d22d15455794": {
          "model_module": "@jupyter-widgets/base",
          "model_name": "LayoutModel",
          "model_module_version": "1.2.0",
          "state": {
            "_model_module": "@jupyter-widgets/base",
            "_model_module_version": "1.2.0",
            "_model_name": "LayoutModel",
            "_view_count": null,
            "_view_module": "@jupyter-widgets/base",
            "_view_module_version": "1.2.0",
            "_view_name": "LayoutView",
            "align_content": null,
            "align_items": null,
            "align_self": null,
            "border": null,
            "bottom": null,
            "display": null,
            "flex": null,
            "flex_flow": null,
            "grid_area": null,
            "grid_auto_columns": null,
            "grid_auto_flow": null,
            "grid_auto_rows": null,
            "grid_column": null,
            "grid_gap": null,
            "grid_row": null,
            "grid_template_areas": null,
            "grid_template_columns": null,
            "grid_template_rows": null,
            "height": null,
            "justify_content": null,
            "justify_items": null,
            "left": null,
            "margin": null,
            "max_height": null,
            "max_width": null,
            "min_height": null,
            "min_width": null,
            "object_fit": null,
            "object_position": null,
            "order": null,
            "overflow": null,
            "overflow_x": null,
            "overflow_y": null,
            "padding": null,
            "right": null,
            "top": null,
            "visibility": null,
            "width": null
          }
        },
        "1833ae46f8a04e75949e3dc9454509d6": {
          "model_module": "@jupyter-widgets/controls",
          "model_name": "ProgressStyleModel",
          "model_module_version": "1.5.0",
          "state": {
            "_model_module": "@jupyter-widgets/controls",
            "_model_module_version": "1.5.0",
            "_model_name": "ProgressStyleModel",
            "_view_count": null,
            "_view_module": "@jupyter-widgets/base",
            "_view_module_version": "1.2.0",
            "_view_name": "StyleView",
            "bar_color": null,
            "description_width": ""
          }
        },
        "7bf16ce8a0f6416c95067ded41aed774": {
          "model_module": "@jupyter-widgets/base",
          "model_name": "LayoutModel",
          "model_module_version": "1.2.0",
          "state": {
            "_model_module": "@jupyter-widgets/base",
            "_model_module_version": "1.2.0",
            "_model_name": "LayoutModel",
            "_view_count": null,
            "_view_module": "@jupyter-widgets/base",
            "_view_module_version": "1.2.0",
            "_view_name": "LayoutView",
            "align_content": null,
            "align_items": null,
            "align_self": null,
            "border": null,
            "bottom": null,
            "display": null,
            "flex": null,
            "flex_flow": null,
            "grid_area": null,
            "grid_auto_columns": null,
            "grid_auto_flow": null,
            "grid_auto_rows": null,
            "grid_column": null,
            "grid_gap": null,
            "grid_row": null,
            "grid_template_areas": null,
            "grid_template_columns": null,
            "grid_template_rows": null,
            "height": null,
            "justify_content": null,
            "justify_items": null,
            "left": null,
            "margin": null,
            "max_height": null,
            "max_width": null,
            "min_height": null,
            "min_width": null,
            "object_fit": null,
            "object_position": null,
            "order": null,
            "overflow": null,
            "overflow_x": null,
            "overflow_y": null,
            "padding": null,
            "right": null,
            "top": null,
            "visibility": null,
            "width": null
          }
        },
        "751c0cf11d464bd383a14b270bd0e87a": {
          "model_module": "@jupyter-widgets/controls",
          "model_name": "DescriptionStyleModel",
          "model_module_version": "1.5.0",
          "state": {
            "_model_module": "@jupyter-widgets/controls",
            "_model_module_version": "1.5.0",
            "_model_name": "DescriptionStyleModel",
            "_view_count": null,
            "_view_module": "@jupyter-widgets/base",
            "_view_module_version": "1.2.0",
            "_view_name": "StyleView",
            "description_width": ""
          }
        },
        "cc555044054e4a8293d59b199aa3af81": {
          "model_module": "@jupyter-widgets/controls",
          "model_name": "HBoxModel",
          "model_module_version": "1.5.0",
          "state": {
            "_dom_classes": [],
            "_model_module": "@jupyter-widgets/controls",
            "_model_module_version": "1.5.0",
            "_model_name": "HBoxModel",
            "_view_count": null,
            "_view_module": "@jupyter-widgets/controls",
            "_view_module_version": "1.5.0",
            "_view_name": "HBoxView",
            "box_style": "",
            "children": [
              "IPY_MODEL_fdd16b699dd14bbcb209abda1e5c85c1",
              "IPY_MODEL_839ca91af79d42578d063b4e664df788",
              "IPY_MODEL_dcb76993d55c4eeea54b5da39a601471"
            ],
            "layout": "IPY_MODEL_8bada3ecf5ef483cbc3d1a304720d7ce"
          }
        },
        "fdd16b699dd14bbcb209abda1e5c85c1": {
          "model_module": "@jupyter-widgets/controls",
          "model_name": "HTMLModel",
          "model_module_version": "1.5.0",
          "state": {
            "_dom_classes": [],
            "_model_module": "@jupyter-widgets/controls",
            "_model_module_version": "1.5.0",
            "_model_name": "HTMLModel",
            "_view_count": null,
            "_view_module": "@jupyter-widgets/controls",
            "_view_module_version": "1.5.0",
            "_view_name": "HTMLView",
            "description": "",
            "description_tooltip": null,
            "layout": "IPY_MODEL_93b13a114f114474abbf7e7423f6d75f",
            "placeholder": "​",
            "style": "IPY_MODEL_b8f6c57628244188aa5f10bf06891332",
            "value": "Downloading data: 100%"
          }
        },
        "839ca91af79d42578d063b4e664df788": {
          "model_module": "@jupyter-widgets/controls",
          "model_name": "FloatProgressModel",
          "model_module_version": "1.5.0",
          "state": {
            "_dom_classes": [],
            "_model_module": "@jupyter-widgets/controls",
            "_model_module_version": "1.5.0",
            "_model_name": "FloatProgressModel",
            "_view_count": null,
            "_view_module": "@jupyter-widgets/controls",
            "_view_module_version": "1.5.0",
            "_view_name": "ProgressView",
            "bar_style": "success",
            "description": "",
            "description_tooltip": null,
            "layout": "IPY_MODEL_13fb0f3eb73d417986834f81fd26de47",
            "max": 76188823,
            "min": 0,
            "orientation": "horizontal",
            "style": "IPY_MODEL_4c4157ae86b04c2ea192c9c14b349ff9",
            "value": 76188823
          }
        },
        "dcb76993d55c4eeea54b5da39a601471": {
          "model_module": "@jupyter-widgets/controls",
          "model_name": "HTMLModel",
          "model_module_version": "1.5.0",
          "state": {
            "_dom_classes": [],
            "_model_module": "@jupyter-widgets/controls",
            "_model_module_version": "1.5.0",
            "_model_name": "HTMLModel",
            "_view_count": null,
            "_view_module": "@jupyter-widgets/controls",
            "_view_module_version": "1.5.0",
            "_view_name": "HTMLView",
            "description": "",
            "description_tooltip": null,
            "layout": "IPY_MODEL_741f3ecff9b24edb982d5d33e90c6ed9",
            "placeholder": "​",
            "style": "IPY_MODEL_4958f6a90e234f598674d211d3ea2eaf",
            "value": " 76.2M/76.2M [00:15&lt;00:00, 4.86MB/s]"
          }
        },
        "8bada3ecf5ef483cbc3d1a304720d7ce": {
          "model_module": "@jupyter-widgets/base",
          "model_name": "LayoutModel",
          "model_module_version": "1.2.0",
          "state": {
            "_model_module": "@jupyter-widgets/base",
            "_model_module_version": "1.2.0",
            "_model_name": "LayoutModel",
            "_view_count": null,
            "_view_module": "@jupyter-widgets/base",
            "_view_module_version": "1.2.0",
            "_view_name": "LayoutView",
            "align_content": null,
            "align_items": null,
            "align_self": null,
            "border": null,
            "bottom": null,
            "display": null,
            "flex": null,
            "flex_flow": null,
            "grid_area": null,
            "grid_auto_columns": null,
            "grid_auto_flow": null,
            "grid_auto_rows": null,
            "grid_column": null,
            "grid_gap": null,
            "grid_row": null,
            "grid_template_areas": null,
            "grid_template_columns": null,
            "grid_template_rows": null,
            "height": null,
            "justify_content": null,
            "justify_items": null,
            "left": null,
            "margin": null,
            "max_height": null,
            "max_width": null,
            "min_height": null,
            "min_width": null,
            "object_fit": null,
            "object_position": null,
            "order": null,
            "overflow": null,
            "overflow_x": null,
            "overflow_y": null,
            "padding": null,
            "right": null,
            "top": null,
            "visibility": null,
            "width": null
          }
        },
        "93b13a114f114474abbf7e7423f6d75f": {
          "model_module": "@jupyter-widgets/base",
          "model_name": "LayoutModel",
          "model_module_version": "1.2.0",
          "state": {
            "_model_module": "@jupyter-widgets/base",
            "_model_module_version": "1.2.0",
            "_model_name": "LayoutModel",
            "_view_count": null,
            "_view_module": "@jupyter-widgets/base",
            "_view_module_version": "1.2.0",
            "_view_name": "LayoutView",
            "align_content": null,
            "align_items": null,
            "align_self": null,
            "border": null,
            "bottom": null,
            "display": null,
            "flex": null,
            "flex_flow": null,
            "grid_area": null,
            "grid_auto_columns": null,
            "grid_auto_flow": null,
            "grid_auto_rows": null,
            "grid_column": null,
            "grid_gap": null,
            "grid_row": null,
            "grid_template_areas": null,
            "grid_template_columns": null,
            "grid_template_rows": null,
            "height": null,
            "justify_content": null,
            "justify_items": null,
            "left": null,
            "margin": null,
            "max_height": null,
            "max_width": null,
            "min_height": null,
            "min_width": null,
            "object_fit": null,
            "object_position": null,
            "order": null,
            "overflow": null,
            "overflow_x": null,
            "overflow_y": null,
            "padding": null,
            "right": null,
            "top": null,
            "visibility": null,
            "width": null
          }
        },
        "b8f6c57628244188aa5f10bf06891332": {
          "model_module": "@jupyter-widgets/controls",
          "model_name": "DescriptionStyleModel",
          "model_module_version": "1.5.0",
          "state": {
            "_model_module": "@jupyter-widgets/controls",
            "_model_module_version": "1.5.0",
            "_model_name": "DescriptionStyleModel",
            "_view_count": null,
            "_view_module": "@jupyter-widgets/base",
            "_view_module_version": "1.2.0",
            "_view_name": "StyleView",
            "description_width": ""
          }
        },
        "13fb0f3eb73d417986834f81fd26de47": {
          "model_module": "@jupyter-widgets/base",
          "model_name": "LayoutModel",
          "model_module_version": "1.2.0",
          "state": {
            "_model_module": "@jupyter-widgets/base",
            "_model_module_version": "1.2.0",
            "_model_name": "LayoutModel",
            "_view_count": null,
            "_view_module": "@jupyter-widgets/base",
            "_view_module_version": "1.2.0",
            "_view_name": "LayoutView",
            "align_content": null,
            "align_items": null,
            "align_self": null,
            "border": null,
            "bottom": null,
            "display": null,
            "flex": null,
            "flex_flow": null,
            "grid_area": null,
            "grid_auto_columns": null,
            "grid_auto_flow": null,
            "grid_auto_rows": null,
            "grid_column": null,
            "grid_gap": null,
            "grid_row": null,
            "grid_template_areas": null,
            "grid_template_columns": null,
            "grid_template_rows": null,
            "height": null,
            "justify_content": null,
            "justify_items": null,
            "left": null,
            "margin": null,
            "max_height": null,
            "max_width": null,
            "min_height": null,
            "min_width": null,
            "object_fit": null,
            "object_position": null,
            "order": null,
            "overflow": null,
            "overflow_x": null,
            "overflow_y": null,
            "padding": null,
            "right": null,
            "top": null,
            "visibility": null,
            "width": null
          }
        },
        "4c4157ae86b04c2ea192c9c14b349ff9": {
          "model_module": "@jupyter-widgets/controls",
          "model_name": "ProgressStyleModel",
          "model_module_version": "1.5.0",
          "state": {
            "_model_module": "@jupyter-widgets/controls",
            "_model_module_version": "1.5.0",
            "_model_name": "ProgressStyleModel",
            "_view_count": null,
            "_view_module": "@jupyter-widgets/base",
            "_view_module_version": "1.2.0",
            "_view_name": "StyleView",
            "bar_color": null,
            "description_width": ""
          }
        },
        "741f3ecff9b24edb982d5d33e90c6ed9": {
          "model_module": "@jupyter-widgets/base",
          "model_name": "LayoutModel",
          "model_module_version": "1.2.0",
          "state": {
            "_model_module": "@jupyter-widgets/base",
            "_model_module_version": "1.2.0",
            "_model_name": "LayoutModel",
            "_view_count": null,
            "_view_module": "@jupyter-widgets/base",
            "_view_module_version": "1.2.0",
            "_view_name": "LayoutView",
            "align_content": null,
            "align_items": null,
            "align_self": null,
            "border": null,
            "bottom": null,
            "display": null,
            "flex": null,
            "flex_flow": null,
            "grid_area": null,
            "grid_auto_columns": null,
            "grid_auto_flow": null,
            "grid_auto_rows": null,
            "grid_column": null,
            "grid_gap": null,
            "grid_row": null,
            "grid_template_areas": null,
            "grid_template_columns": null,
            "grid_template_rows": null,
            "height": null,
            "justify_content": null,
            "justify_items": null,
            "left": null,
            "margin": null,
            "max_height": null,
            "max_width": null,
            "min_height": null,
            "min_width": null,
            "object_fit": null,
            "object_position": null,
            "order": null,
            "overflow": null,
            "overflow_x": null,
            "overflow_y": null,
            "padding": null,
            "right": null,
            "top": null,
            "visibility": null,
            "width": null
          }
        },
        "4958f6a90e234f598674d211d3ea2eaf": {
          "model_module": "@jupyter-widgets/controls",
          "model_name": "DescriptionStyleModel",
          "model_module_version": "1.5.0",
          "state": {
            "_model_module": "@jupyter-widgets/controls",
            "_model_module_version": "1.5.0",
            "_model_name": "DescriptionStyleModel",
            "_view_count": null,
            "_view_module": "@jupyter-widgets/base",
            "_view_module_version": "1.2.0",
            "_view_name": "StyleView",
            "description_width": ""
          }
        },
        "685de2eeb7e34c01bd6ea90ff7324c03": {
          "model_module": "@jupyter-widgets/controls",
          "model_name": "HBoxModel",
          "model_module_version": "1.5.0",
          "state": {
            "_dom_classes": [],
            "_model_module": "@jupyter-widgets/controls",
            "_model_module_version": "1.5.0",
            "_model_name": "HBoxModel",
            "_view_count": null,
            "_view_module": "@jupyter-widgets/controls",
            "_view_module_version": "1.5.0",
            "_view_name": "HBoxView",
            "box_style": "",
            "children": [
              "IPY_MODEL_cd92e0b13be0419e9d7439c0c9fb40f1",
              "IPY_MODEL_4052b07328bb447a8548f536f3c2eb3d",
              "IPY_MODEL_e642f1f59a504e838046eb367515f508"
            ],
            "layout": "IPY_MODEL_de0eef3f960d4755868969f7fccaefa0"
          }
        },
        "cd92e0b13be0419e9d7439c0c9fb40f1": {
          "model_module": "@jupyter-widgets/controls",
          "model_name": "HTMLModel",
          "model_module_version": "1.5.0",
          "state": {
            "_dom_classes": [],
            "_model_module": "@jupyter-widgets/controls",
            "_model_module_version": "1.5.0",
            "_model_name": "HTMLModel",
            "_view_count": null,
            "_view_module": "@jupyter-widgets/controls",
            "_view_module_version": "1.5.0",
            "_view_name": "HTMLView",
            "description": "",
            "description_tooltip": null,
            "layout": "IPY_MODEL_7af28167e55842bf9d322d2be3c198bb",
            "placeholder": "​",
            "style": "IPY_MODEL_7fbf981b86664728a8671ee65bdba20f",
            "value": "Generating train split: 100%"
          }
        },
        "4052b07328bb447a8548f536f3c2eb3d": {
          "model_module": "@jupyter-widgets/controls",
          "model_name": "FloatProgressModel",
          "model_module_version": "1.5.0",
          "state": {
            "_dom_classes": [],
            "_model_module": "@jupyter-widgets/controls",
            "_model_module_version": "1.5.0",
            "_model_name": "FloatProgressModel",
            "_view_count": null,
            "_view_module": "@jupyter-widgets/controls",
            "_view_module_version": "1.5.0",
            "_view_name": "ProgressView",
            "bar_style": "success",
            "description": "",
            "description_tooltip": null,
            "layout": "IPY_MODEL_239153d8c633426ca097129a31038bfe",
            "max": 39209,
            "min": 0,
            "orientation": "horizontal",
            "style": "IPY_MODEL_a3be80aaf8b244c18f6dfe31b13435f9",
            "value": 39209
          }
        },
        "e642f1f59a504e838046eb367515f508": {
          "model_module": "@jupyter-widgets/controls",
          "model_name": "HTMLModel",
          "model_module_version": "1.5.0",
          "state": {
            "_dom_classes": [],
            "_model_module": "@jupyter-widgets/controls",
            "_model_module_version": "1.5.0",
            "_model_name": "HTMLModel",
            "_view_count": null,
            "_view_module": "@jupyter-widgets/controls",
            "_view_module_version": "1.5.0",
            "_view_name": "HTMLView",
            "description": "",
            "description_tooltip": null,
            "layout": "IPY_MODEL_ac87e288d57c466cafdaa946249a10b6",
            "placeholder": "​",
            "style": "IPY_MODEL_6373604dd7bf49c482f7e79f48d25e7b",
            "value": " 39209/39209 [00:01&lt;00:00, 30330.50 examples/s]"
          }
        },
        "de0eef3f960d4755868969f7fccaefa0": {
          "model_module": "@jupyter-widgets/base",
          "model_name": "LayoutModel",
          "model_module_version": "1.2.0",
          "state": {
            "_model_module": "@jupyter-widgets/base",
            "_model_module_version": "1.2.0",
            "_model_name": "LayoutModel",
            "_view_count": null,
            "_view_module": "@jupyter-widgets/base",
            "_view_module_version": "1.2.0",
            "_view_name": "LayoutView",
            "align_content": null,
            "align_items": null,
            "align_self": null,
            "border": null,
            "bottom": null,
            "display": null,
            "flex": null,
            "flex_flow": null,
            "grid_area": null,
            "grid_auto_columns": null,
            "grid_auto_flow": null,
            "grid_auto_rows": null,
            "grid_column": null,
            "grid_gap": null,
            "grid_row": null,
            "grid_template_areas": null,
            "grid_template_columns": null,
            "grid_template_rows": null,
            "height": null,
            "justify_content": null,
            "justify_items": null,
            "left": null,
            "margin": null,
            "max_height": null,
            "max_width": null,
            "min_height": null,
            "min_width": null,
            "object_fit": null,
            "object_position": null,
            "order": null,
            "overflow": null,
            "overflow_x": null,
            "overflow_y": null,
            "padding": null,
            "right": null,
            "top": null,
            "visibility": null,
            "width": null
          }
        },
        "7af28167e55842bf9d322d2be3c198bb": {
          "model_module": "@jupyter-widgets/base",
          "model_name": "LayoutModel",
          "model_module_version": "1.2.0",
          "state": {
            "_model_module": "@jupyter-widgets/base",
            "_model_module_version": "1.2.0",
            "_model_name": "LayoutModel",
            "_view_count": null,
            "_view_module": "@jupyter-widgets/base",
            "_view_module_version": "1.2.0",
            "_view_name": "LayoutView",
            "align_content": null,
            "align_items": null,
            "align_self": null,
            "border": null,
            "bottom": null,
            "display": null,
            "flex": null,
            "flex_flow": null,
            "grid_area": null,
            "grid_auto_columns": null,
            "grid_auto_flow": null,
            "grid_auto_rows": null,
            "grid_column": null,
            "grid_gap": null,
            "grid_row": null,
            "grid_template_areas": null,
            "grid_template_columns": null,
            "grid_template_rows": null,
            "height": null,
            "justify_content": null,
            "justify_items": null,
            "left": null,
            "margin": null,
            "max_height": null,
            "max_width": null,
            "min_height": null,
            "min_width": null,
            "object_fit": null,
            "object_position": null,
            "order": null,
            "overflow": null,
            "overflow_x": null,
            "overflow_y": null,
            "padding": null,
            "right": null,
            "top": null,
            "visibility": null,
            "width": null
          }
        },
        "7fbf981b86664728a8671ee65bdba20f": {
          "model_module": "@jupyter-widgets/controls",
          "model_name": "DescriptionStyleModel",
          "model_module_version": "1.5.0",
          "state": {
            "_model_module": "@jupyter-widgets/controls",
            "_model_module_version": "1.5.0",
            "_model_name": "DescriptionStyleModel",
            "_view_count": null,
            "_view_module": "@jupyter-widgets/base",
            "_view_module_version": "1.2.0",
            "_view_name": "StyleView",
            "description_width": ""
          }
        },
        "239153d8c633426ca097129a31038bfe": {
          "model_module": "@jupyter-widgets/base",
          "model_name": "LayoutModel",
          "model_module_version": "1.2.0",
          "state": {
            "_model_module": "@jupyter-widgets/base",
            "_model_module_version": "1.2.0",
            "_model_name": "LayoutModel",
            "_view_count": null,
            "_view_module": "@jupyter-widgets/base",
            "_view_module_version": "1.2.0",
            "_view_name": "LayoutView",
            "align_content": null,
            "align_items": null,
            "align_self": null,
            "border": null,
            "bottom": null,
            "display": null,
            "flex": null,
            "flex_flow": null,
            "grid_area": null,
            "grid_auto_columns": null,
            "grid_auto_flow": null,
            "grid_auto_rows": null,
            "grid_column": null,
            "grid_gap": null,
            "grid_row": null,
            "grid_template_areas": null,
            "grid_template_columns": null,
            "grid_template_rows": null,
            "height": null,
            "justify_content": null,
            "justify_items": null,
            "left": null,
            "margin": null,
            "max_height": null,
            "max_width": null,
            "min_height": null,
            "min_width": null,
            "object_fit": null,
            "object_position": null,
            "order": null,
            "overflow": null,
            "overflow_x": null,
            "overflow_y": null,
            "padding": null,
            "right": null,
            "top": null,
            "visibility": null,
            "width": null
          }
        },
        "a3be80aaf8b244c18f6dfe31b13435f9": {
          "model_module": "@jupyter-widgets/controls",
          "model_name": "ProgressStyleModel",
          "model_module_version": "1.5.0",
          "state": {
            "_model_module": "@jupyter-widgets/controls",
            "_model_module_version": "1.5.0",
            "_model_name": "ProgressStyleModel",
            "_view_count": null,
            "_view_module": "@jupyter-widgets/base",
            "_view_module_version": "1.2.0",
            "_view_name": "StyleView",
            "bar_color": null,
            "description_width": ""
          }
        },
        "ac87e288d57c466cafdaa946249a10b6": {
          "model_module": "@jupyter-widgets/base",
          "model_name": "LayoutModel",
          "model_module_version": "1.2.0",
          "state": {
            "_model_module": "@jupyter-widgets/base",
            "_model_module_version": "1.2.0",
            "_model_name": "LayoutModel",
            "_view_count": null,
            "_view_module": "@jupyter-widgets/base",
            "_view_module_version": "1.2.0",
            "_view_name": "LayoutView",
            "align_content": null,
            "align_items": null,
            "align_self": null,
            "border": null,
            "bottom": null,
            "display": null,
            "flex": null,
            "flex_flow": null,
            "grid_area": null,
            "grid_auto_columns": null,
            "grid_auto_flow": null,
            "grid_auto_rows": null,
            "grid_column": null,
            "grid_gap": null,
            "grid_row": null,
            "grid_template_areas": null,
            "grid_template_columns": null,
            "grid_template_rows": null,
            "height": null,
            "justify_content": null,
            "justify_items": null,
            "left": null,
            "margin": null,
            "max_height": null,
            "max_width": null,
            "min_height": null,
            "min_width": null,
            "object_fit": null,
            "object_position": null,
            "order": null,
            "overflow": null,
            "overflow_x": null,
            "overflow_y": null,
            "padding": null,
            "right": null,
            "top": null,
            "visibility": null,
            "width": null
          }
        },
        "6373604dd7bf49c482f7e79f48d25e7b": {
          "model_module": "@jupyter-widgets/controls",
          "model_name": "DescriptionStyleModel",
          "model_module_version": "1.5.0",
          "state": {
            "_model_module": "@jupyter-widgets/controls",
            "_model_module_version": "1.5.0",
            "_model_name": "DescriptionStyleModel",
            "_view_count": null,
            "_view_module": "@jupyter-widgets/base",
            "_view_module_version": "1.2.0",
            "_view_name": "StyleView",
            "description_width": ""
          }
        },
        "631303587e4f45f493e5e9d947806c6f": {
          "model_module": "@jupyter-widgets/controls",
          "model_name": "HBoxModel",
          "model_module_version": "1.5.0",
          "state": {
            "_dom_classes": [],
            "_model_module": "@jupyter-widgets/controls",
            "_model_module_version": "1.5.0",
            "_model_name": "HBoxModel",
            "_view_count": null,
            "_view_module": "@jupyter-widgets/controls",
            "_view_module_version": "1.5.0",
            "_view_name": "HBoxView",
            "box_style": "",
            "children": [
              "IPY_MODEL_634e7ef38b3e4f618ea7e9ccebddb8d4",
              "IPY_MODEL_2f541a83d977408696e13851fda327b4",
              "IPY_MODEL_af9c465c97ec4268ab6a119165830217"
            ],
            "layout": "IPY_MODEL_f50658abc2e54afe903afd625bc11c01"
          }
        },
        "634e7ef38b3e4f618ea7e9ccebddb8d4": {
          "model_module": "@jupyter-widgets/controls",
          "model_name": "HTMLModel",
          "model_module_version": "1.5.0",
          "state": {
            "_dom_classes": [],
            "_model_module": "@jupyter-widgets/controls",
            "_model_module_version": "1.5.0",
            "_model_name": "HTMLModel",
            "_view_count": null,
            "_view_module": "@jupyter-widgets/controls",
            "_view_module_version": "1.5.0",
            "_view_name": "HTMLView",
            "description": "",
            "description_tooltip": null,
            "layout": "IPY_MODEL_1c8dc348aec64c06a3eae5990831ac75",
            "placeholder": "​",
            "style": "IPY_MODEL_e74db396b08b45eb8b9185a37ce47cfa",
            "value": "Generating test split: 100%"
          }
        },
        "2f541a83d977408696e13851fda327b4": {
          "model_module": "@jupyter-widgets/controls",
          "model_name": "FloatProgressModel",
          "model_module_version": "1.5.0",
          "state": {
            "_dom_classes": [],
            "_model_module": "@jupyter-widgets/controls",
            "_model_module_version": "1.5.0",
            "_model_name": "FloatProgressModel",
            "_view_count": null,
            "_view_module": "@jupyter-widgets/controls",
            "_view_module_version": "1.5.0",
            "_view_name": "ProgressView",
            "bar_style": "success",
            "description": "",
            "description_tooltip": null,
            "layout": "IPY_MODEL_2a79e969e72843cea7b47e994734e798",
            "max": 12630,
            "min": 0,
            "orientation": "horizontal",
            "style": "IPY_MODEL_091f7858f3aa4b7aa5d6e5cbf9d8a194",
            "value": 12630
          }
        },
        "af9c465c97ec4268ab6a119165830217": {
          "model_module": "@jupyter-widgets/controls",
          "model_name": "HTMLModel",
          "model_module_version": "1.5.0",
          "state": {
            "_dom_classes": [],
            "_model_module": "@jupyter-widgets/controls",
            "_model_module_version": "1.5.0",
            "_model_name": "HTMLModel",
            "_view_count": null,
            "_view_module": "@jupyter-widgets/controls",
            "_view_module_version": "1.5.0",
            "_view_name": "HTMLView",
            "description": "",
            "description_tooltip": null,
            "layout": "IPY_MODEL_a5f8d6a93a6a4578974e9ac3ea2cc60c",
            "placeholder": "​",
            "style": "IPY_MODEL_d07c6387f0ee437c94e89e6b2a156063",
            "value": " 12630/12630 [00:00&lt;00:00, 39192.00 examples/s]"
          }
        },
        "f50658abc2e54afe903afd625bc11c01": {
          "model_module": "@jupyter-widgets/base",
          "model_name": "LayoutModel",
          "model_module_version": "1.2.0",
          "state": {
            "_model_module": "@jupyter-widgets/base",
            "_model_module_version": "1.2.0",
            "_model_name": "LayoutModel",
            "_view_count": null,
            "_view_module": "@jupyter-widgets/base",
            "_view_module_version": "1.2.0",
            "_view_name": "LayoutView",
            "align_content": null,
            "align_items": null,
            "align_self": null,
            "border": null,
            "bottom": null,
            "display": null,
            "flex": null,
            "flex_flow": null,
            "grid_area": null,
            "grid_auto_columns": null,
            "grid_auto_flow": null,
            "grid_auto_rows": null,
            "grid_column": null,
            "grid_gap": null,
            "grid_row": null,
            "grid_template_areas": null,
            "grid_template_columns": null,
            "grid_template_rows": null,
            "height": null,
            "justify_content": null,
            "justify_items": null,
            "left": null,
            "margin": null,
            "max_height": null,
            "max_width": null,
            "min_height": null,
            "min_width": null,
            "object_fit": null,
            "object_position": null,
            "order": null,
            "overflow": null,
            "overflow_x": null,
            "overflow_y": null,
            "padding": null,
            "right": null,
            "top": null,
            "visibility": null,
            "width": null
          }
        },
        "1c8dc348aec64c06a3eae5990831ac75": {
          "model_module": "@jupyter-widgets/base",
          "model_name": "LayoutModel",
          "model_module_version": "1.2.0",
          "state": {
            "_model_module": "@jupyter-widgets/base",
            "_model_module_version": "1.2.0",
            "_model_name": "LayoutModel",
            "_view_count": null,
            "_view_module": "@jupyter-widgets/base",
            "_view_module_version": "1.2.0",
            "_view_name": "LayoutView",
            "align_content": null,
            "align_items": null,
            "align_self": null,
            "border": null,
            "bottom": null,
            "display": null,
            "flex": null,
            "flex_flow": null,
            "grid_area": null,
            "grid_auto_columns": null,
            "grid_auto_flow": null,
            "grid_auto_rows": null,
            "grid_column": null,
            "grid_gap": null,
            "grid_row": null,
            "grid_template_areas": null,
            "grid_template_columns": null,
            "grid_template_rows": null,
            "height": null,
            "justify_content": null,
            "justify_items": null,
            "left": null,
            "margin": null,
            "max_height": null,
            "max_width": null,
            "min_height": null,
            "min_width": null,
            "object_fit": null,
            "object_position": null,
            "order": null,
            "overflow": null,
            "overflow_x": null,
            "overflow_y": null,
            "padding": null,
            "right": null,
            "top": null,
            "visibility": null,
            "width": null
          }
        },
        "e74db396b08b45eb8b9185a37ce47cfa": {
          "model_module": "@jupyter-widgets/controls",
          "model_name": "DescriptionStyleModel",
          "model_module_version": "1.5.0",
          "state": {
            "_model_module": "@jupyter-widgets/controls",
            "_model_module_version": "1.5.0",
            "_model_name": "DescriptionStyleModel",
            "_view_count": null,
            "_view_module": "@jupyter-widgets/base",
            "_view_module_version": "1.2.0",
            "_view_name": "StyleView",
            "description_width": ""
          }
        },
        "2a79e969e72843cea7b47e994734e798": {
          "model_module": "@jupyter-widgets/base",
          "model_name": "LayoutModel",
          "model_module_version": "1.2.0",
          "state": {
            "_model_module": "@jupyter-widgets/base",
            "_model_module_version": "1.2.0",
            "_model_name": "LayoutModel",
            "_view_count": null,
            "_view_module": "@jupyter-widgets/base",
            "_view_module_version": "1.2.0",
            "_view_name": "LayoutView",
            "align_content": null,
            "align_items": null,
            "align_self": null,
            "border": null,
            "bottom": null,
            "display": null,
            "flex": null,
            "flex_flow": null,
            "grid_area": null,
            "grid_auto_columns": null,
            "grid_auto_flow": null,
            "grid_auto_rows": null,
            "grid_column": null,
            "grid_gap": null,
            "grid_row": null,
            "grid_template_areas": null,
            "grid_template_columns": null,
            "grid_template_rows": null,
            "height": null,
            "justify_content": null,
            "justify_items": null,
            "left": null,
            "margin": null,
            "max_height": null,
            "max_width": null,
            "min_height": null,
            "min_width": null,
            "object_fit": null,
            "object_position": null,
            "order": null,
            "overflow": null,
            "overflow_x": null,
            "overflow_y": null,
            "padding": null,
            "right": null,
            "top": null,
            "visibility": null,
            "width": null
          }
        },
        "091f7858f3aa4b7aa5d6e5cbf9d8a194": {
          "model_module": "@jupyter-widgets/controls",
          "model_name": "ProgressStyleModel",
          "model_module_version": "1.5.0",
          "state": {
            "_model_module": "@jupyter-widgets/controls",
            "_model_module_version": "1.5.0",
            "_model_name": "ProgressStyleModel",
            "_view_count": null,
            "_view_module": "@jupyter-widgets/base",
            "_view_module_version": "1.2.0",
            "_view_name": "StyleView",
            "bar_color": null,
            "description_width": ""
          }
        },
        "a5f8d6a93a6a4578974e9ac3ea2cc60c": {
          "model_module": "@jupyter-widgets/base",
          "model_name": "LayoutModel",
          "model_module_version": "1.2.0",
          "state": {
            "_model_module": "@jupyter-widgets/base",
            "_model_module_version": "1.2.0",
            "_model_name": "LayoutModel",
            "_view_count": null,
            "_view_module": "@jupyter-widgets/base",
            "_view_module_version": "1.2.0",
            "_view_name": "LayoutView",
            "align_content": null,
            "align_items": null,
            "align_self": null,
            "border": null,
            "bottom": null,
            "display": null,
            "flex": null,
            "flex_flow": null,
            "grid_area": null,
            "grid_auto_columns": null,
            "grid_auto_flow": null,
            "grid_auto_rows": null,
            "grid_column": null,
            "grid_gap": null,
            "grid_row": null,
            "grid_template_areas": null,
            "grid_template_columns": null,
            "grid_template_rows": null,
            "height": null,
            "justify_content": null,
            "justify_items": null,
            "left": null,
            "margin": null,
            "max_height": null,
            "max_width": null,
            "min_height": null,
            "min_width": null,
            "object_fit": null,
            "object_position": null,
            "order": null,
            "overflow": null,
            "overflow_x": null,
            "overflow_y": null,
            "padding": null,
            "right": null,
            "top": null,
            "visibility": null,
            "width": null
          }
        },
        "d07c6387f0ee437c94e89e6b2a156063": {
          "model_module": "@jupyter-widgets/controls",
          "model_name": "DescriptionStyleModel",
          "model_module_version": "1.5.0",
          "state": {
            "_model_module": "@jupyter-widgets/controls",
            "_model_module_version": "1.5.0",
            "_model_name": "DescriptionStyleModel",
            "_view_count": null,
            "_view_module": "@jupyter-widgets/base",
            "_view_module_version": "1.2.0",
            "_view_name": "StyleView",
            "description_width": ""
          }
        }
      }
    }
  },
  "cells": [
    {
      "cell_type": "markdown",
      "metadata": {
        "id": "view-in-github",
        "colab_type": "text"
      },
      "source": [
        "<a href=\"https://colab.research.google.com/github/jacobrast/attacks/blob/main/shadow_attack_march_31.ipynb\" target=\"_parent\"><img src=\"https://colab.research.google.com/assets/colab-badge.svg\" alt=\"Open In Colab\"/></a>"
      ]
    },
    {
      "cell_type": "code",
      "execution_count": 1,
      "metadata": {
        "id": "-1OsF2siyGdV"
      },
      "outputs": [],
      "source": [
        "## Step 1: Download the model and dataset"
      ]
    },
    {
      "cell_type": "code",
      "source": [
        "!pip install datasets --quiet"
      ],
      "metadata": {
        "colab": {
          "base_uri": "https://localhost:8080/"
        },
        "id": "FTKjI77LzuL-",
        "outputId": "e20c9f59-1049-4da3-9ef6-abbf756f68e7"
      },
      "execution_count": 1,
      "outputs": [
        {
          "output_type": "stream",
          "name": "stdout",
          "text": [
            "\u001b[2K     \u001b[90m━━━━━━━━━━━━━━━━━━━━━━━━━━━━━━━━━━━━━━━━\u001b[0m \u001b[32m510.5/510.5 kB\u001b[0m \u001b[31m6.5 MB/s\u001b[0m eta \u001b[36m0:00:00\u001b[0m\n",
            "\u001b[2K     \u001b[90m━━━━━━━━━━━━━━━━━━━━━━━━━━━━━━━━━━━━━━━━\u001b[0m \u001b[32m116.3/116.3 kB\u001b[0m \u001b[31m8.8 MB/s\u001b[0m eta \u001b[36m0:00:00\u001b[0m\n",
            "\u001b[2K     \u001b[90m━━━━━━━━━━━━━━━━━━━━━━━━━━━━━━━━━━━━━━━━\u001b[0m \u001b[32m194.1/194.1 kB\u001b[0m \u001b[31m8.2 MB/s\u001b[0m eta \u001b[36m0:00:00\u001b[0m\n",
            "\u001b[2K     \u001b[90m━━━━━━━━━━━━━━━━━━━━━━━━━━━━━━━━━━━━━━━━\u001b[0m \u001b[32m134.8/134.8 kB\u001b[0m \u001b[31m9.6 MB/s\u001b[0m eta \u001b[36m0:00:00\u001b[0m\n",
            "\u001b[?25h"
          ]
        }
      ]
    },
    {
      "cell_type": "code",
      "source": [
        "## Step 2: Run the model on a specific data point\n",
        "### Jacob's comment March 31 2024: It seems most of this work is already done for me"
      ],
      "metadata": {
        "id": "HgnjSMBeyLQt"
      },
      "execution_count": 3,
      "outputs": []
    },
    {
      "cell_type": "code",
      "source": [
        "!git clone https://github.com/hncszyq/ShadowAttack.git\n",
        "\n",
        "from google.colab import drive\n",
        "drive.mount('/content/drive')\n",
        "\n",
        "!unzip -q /content/drive/MyDrive/data/dataset.zip -d /content/ShadowAttack/dataset\n",
        "!unzip -q /content/drive/MyDrive/data/model.zip -d /content/ShadowAttack/model\n",
        "\n",
        "!pip install grad-cam --quiet\n",
        "\n",
        "import sys\n",
        "import os\n",
        "\n",
        "directory_path = '/content/ShadowAttack'\n",
        "sys.path.append(directory_path)\n",
        "os.chdir('/content/ShadowAttack')"
      ],
      "metadata": {
        "colab": {
          "base_uri": "https://localhost:8080/"
        },
        "id": "sETBIPZk3EHA",
        "outputId": "9e7154a5-376a-405b-faf7-47cf4d1de9cf"
      },
      "execution_count": 2,
      "outputs": [
        {
          "output_type": "stream",
          "name": "stdout",
          "text": [
            "Cloning into 'ShadowAttack'...\n",
            "remote: Enumerating objects: 819, done.\u001b[K\n",
            "remote: Counting objects: 100% (819/819), done.\u001b[K\n",
            "remote: Compressing objects: 100% (795/795), done.\u001b[K\n",
            "remote: Total 819 (delta 33), reused 792 (delta 15), pack-reused 0\u001b[K\n",
            "Receiving objects: 100% (819/819), 10.73 MiB | 18.07 MiB/s, done.\n",
            "Resolving deltas: 100% (33/33), done.\n",
            "Mounted at /content/drive\n",
            "\u001b[2K     \u001b[90m━━━━━━━━━━━━━━━━━━━━━━━━━━━━━━━━━━━━━━━━\u001b[0m \u001b[32m7.8/7.8 MB\u001b[0m \u001b[31m25.5 MB/s\u001b[0m eta \u001b[36m0:00:00\u001b[0m\n",
            "\u001b[?25h  Installing build dependencies ... \u001b[?25l\u001b[?25hdone\n",
            "  Getting requirements to build wheel ... \u001b[?25l\u001b[?25hdone\n",
            "  Preparing metadata (pyproject.toml) ... \u001b[?25l\u001b[?25hdone\n",
            "\u001b[2K     \u001b[90m━━━━━━━━━━━━━━━━━━━━━━━━━━━━━━━━━━━━━━━━\u001b[0m \u001b[32m23.7/23.7 MB\u001b[0m \u001b[31m26.3 MB/s\u001b[0m eta \u001b[36m0:00:00\u001b[0m\n",
            "\u001b[2K     \u001b[90m━━━━━━━━━━━━━━━━━━━━━━━━━━━━━━━━━━━━━━━━\u001b[0m \u001b[32m823.6/823.6 kB\u001b[0m \u001b[31m62.7 MB/s\u001b[0m eta \u001b[36m0:00:00\u001b[0m\n",
            "\u001b[2K     \u001b[90m━━━━━━━━━━━━━━━━━━━━━━━━━━━━━━━━━━━━━━━━\u001b[0m \u001b[32m14.1/14.1 MB\u001b[0m \u001b[31m91.1 MB/s\u001b[0m eta \u001b[36m0:00:00\u001b[0m\n",
            "\u001b[2K     \u001b[90m━━━━━━━━━━━━━━━━━━━━━━━━━━━━━━━━━━━━━━━━\u001b[0m \u001b[32m731.7/731.7 MB\u001b[0m \u001b[31m1.7 MB/s\u001b[0m eta \u001b[36m0:00:00\u001b[0m\n",
            "\u001b[2K     \u001b[90m━━━━━━━━━━━━━━━━━━━━━━━━━━━━━━━━━━━━━━━━\u001b[0m \u001b[32m410.6/410.6 MB\u001b[0m \u001b[31m2.4 MB/s\u001b[0m eta \u001b[36m0:00:00\u001b[0m\n",
            "\u001b[2K     \u001b[90m━━━━━━━━━━━━━━━━━━━━━━━━━━━━━━━━━━━━━━━━\u001b[0m \u001b[32m121.6/121.6 MB\u001b[0m \u001b[31m8.3 MB/s\u001b[0m eta \u001b[36m0:00:00\u001b[0m\n",
            "\u001b[2K     \u001b[90m━━━━━━━━━━━━━━━━━━━━━━━━━━━━━━━━━━━━━━━━\u001b[0m \u001b[32m56.5/56.5 MB\u001b[0m \u001b[31m11.3 MB/s\u001b[0m eta \u001b[36m0:00:00\u001b[0m\n",
            "\u001b[2K     \u001b[90m━━━━━━━━━━━━━━━━━━━━━━━━━━━━━━━━━━━━━━━━\u001b[0m \u001b[32m124.2/124.2 MB\u001b[0m \u001b[31m8.5 MB/s\u001b[0m eta \u001b[36m0:00:00\u001b[0m\n",
            "\u001b[2K     \u001b[90m━━━━━━━━━━━━━━━━━━━━━━━━━━━━━━━━━━━━━━━━\u001b[0m \u001b[32m196.0/196.0 MB\u001b[0m \u001b[31m6.5 MB/s\u001b[0m eta \u001b[36m0:00:00\u001b[0m\n",
            "\u001b[2K     \u001b[90m━━━━━━━━━━━━━━━━━━━━━━━━━━━━━━━━━━━━━━━━\u001b[0m \u001b[32m166.0/166.0 MB\u001b[0m \u001b[31m2.3 MB/s\u001b[0m eta \u001b[36m0:00:00\u001b[0m\n",
            "\u001b[2K     \u001b[90m━━━━━━━━━━━━━━━━━━━━━━━━━━━━━━━━━━━━━━━━\u001b[0m \u001b[32m99.1/99.1 kB\u001b[0m \u001b[31m14.9 MB/s\u001b[0m eta \u001b[36m0:00:00\u001b[0m\n",
            "\u001b[2K     \u001b[90m━━━━━━━━━━━━━━━━━━━━━━━━━━━━━━━━━━━━━━━━\u001b[0m \u001b[32m21.1/21.1 MB\u001b[0m \u001b[31m81.4 MB/s\u001b[0m eta \u001b[36m0:00:00\u001b[0m\n",
            "\u001b[?25h  Building wheel for grad-cam (pyproject.toml) ... \u001b[?25l\u001b[?25hdone\n"
          ]
        }
      ]
    },
    {
      "cell_type": "code",
      "source": [
        "import cv2\n",
        "import json\n",
        "import torch\n",
        "\n",
        "import numpy as np\n",
        "import matplotlib.pyplot as plt\n",
        "\n",
        "from gtsrb import GtsrbCNN\n",
        "from utils import load_mask\n",
        "\n",
        "from gtsrb import test_single_image, pre_process_image\n",
        "from torchvision import transforms\n",
        "from pytorch_grad_cam import GradCAM\n",
        "from pytorch_grad_cam.utils.image import scale_cam_image, show_cam_on_image"
      ],
      "metadata": {
        "id": "DwtUvMfl3aNB"
      },
      "execution_count": 3,
      "outputs": []
    },
    {
      "cell_type": "code",
      "source": [
        "from PIL import Image\n",
        "import tempfile\n",
        "\n",
        "def pred_image(pil_file, label):\n",
        "    with tempfile.NamedTemporaryFile(suffix='.png', delete=False) as tmpfile:\n",
        "        pil_file.save(tmpfile, format='PNG')\n",
        "\n",
        "        label, correct = test_single_image(tmpfile.name, label)\n",
        "\n",
        "    return label"
      ],
      "metadata": {
        "id": "BNmIGnDv9sC6"
      },
      "execution_count": 4,
      "outputs": []
    },
    {
      "cell_type": "code",
      "source": [
        "from datasets import load_dataset\n",
        "\n",
        "dataset = load_dataset('bazyl/GTSRB')\n",
        "\n",
        "with open('params.json', 'rb') as f:\n",
        "    params = json.load(f)\n",
        "    class_n = params['GTSRB']['class_n']\n",
        "    device = params['device']\n",
        "    position_list, mask_list = load_mask()\n",
        "\n",
        "# Load the model\n",
        "model = GtsrbCNN(n_class=class_n).to(device)\n",
        "model.load_state_dict(\n",
        "    torch.load(f'./model/model_gtsrb.pth',\n",
        "                map_location=torch.device(device)))\n",
        "model.eval()"
      ],
      "metadata": {
        "colab": {
          "base_uri": "https://localhost:8080/",
          "height": 1000,
          "referenced_widgets": [
            "850b26ad70804c268b9ccb24906da959",
            "fb622e27b5d0433591355d02f2023551",
            "5db39384548a4912a6fcec9a2245e6d9",
            "c2173889fff54a2aa39a85620ab382fb",
            "d2366eb12cfb4ab88c22b6825d81da0d",
            "c60890bc93734799babc0b5933dc15c1",
            "581efad0cf1d47f1b08b112cf22be353",
            "4387d64e7721416baa7f911d1221420f",
            "b191f53f685e45e3b2b7725a987796d1",
            "46f84b02787843458920f98a84e4a5de",
            "171881c1168c4c4d9e9481f666c2b33c",
            "d9f80912a0cf40ca9395081112f8408e",
            "50e3800a9fcd48729ca8b04e8c3335b6",
            "fc3ea578327740d6a37c7873fdae15c2",
            "8bef4cb42668408eaa72a6128b6dce97",
            "acab956893cb4b03898f0ad9e87a8b96",
            "fe017f0c9b5f4be193e43561a88d79fb",
            "2c29f7a5e89d4cfe84e5f3cb41eedf6b",
            "e549724845ac4275a97850233282dbee",
            "99b8d90456854e3f97c98017d8945e41",
            "e205a84c48284ae090233d749e45877b",
            "c61dccfef8d1415b99ac0743fedc21f7",
            "4b1f6cd37e464bb7a499abe8069c5132",
            "e8a044e74ed54dfcb8e788f877ca71dd",
            "990f8d20f5274a28bbd88f10baa3c588",
            "f8bf5a8ff7b141caa82eb083ebd1362d",
            "49b6ccb6a7b7485fb58a8c91e2d2dfb0",
            "9705bcb1eff14f3791c6198abe1a219d",
            "4868df6227cb461aad547043270497cb",
            "9e4d61d99fcf4017a984d22d15455794",
            "1833ae46f8a04e75949e3dc9454509d6",
            "7bf16ce8a0f6416c95067ded41aed774",
            "751c0cf11d464bd383a14b270bd0e87a",
            "cc555044054e4a8293d59b199aa3af81",
            "fdd16b699dd14bbcb209abda1e5c85c1",
            "839ca91af79d42578d063b4e664df788",
            "dcb76993d55c4eeea54b5da39a601471",
            "8bada3ecf5ef483cbc3d1a304720d7ce",
            "93b13a114f114474abbf7e7423f6d75f",
            "b8f6c57628244188aa5f10bf06891332",
            "13fb0f3eb73d417986834f81fd26de47",
            "4c4157ae86b04c2ea192c9c14b349ff9",
            "741f3ecff9b24edb982d5d33e90c6ed9",
            "4958f6a90e234f598674d211d3ea2eaf",
            "685de2eeb7e34c01bd6ea90ff7324c03",
            "cd92e0b13be0419e9d7439c0c9fb40f1",
            "4052b07328bb447a8548f536f3c2eb3d",
            "e642f1f59a504e838046eb367515f508",
            "de0eef3f960d4755868969f7fccaefa0",
            "7af28167e55842bf9d322d2be3c198bb",
            "7fbf981b86664728a8671ee65bdba20f",
            "239153d8c633426ca097129a31038bfe",
            "a3be80aaf8b244c18f6dfe31b13435f9",
            "ac87e288d57c466cafdaa946249a10b6",
            "6373604dd7bf49c482f7e79f48d25e7b",
            "631303587e4f45f493e5e9d947806c6f",
            "634e7ef38b3e4f618ea7e9ccebddb8d4",
            "2f541a83d977408696e13851fda327b4",
            "af9c465c97ec4268ab6a119165830217",
            "f50658abc2e54afe903afd625bc11c01",
            "1c8dc348aec64c06a3eae5990831ac75",
            "e74db396b08b45eb8b9185a37ce47cfa",
            "2a79e969e72843cea7b47e994734e798",
            "091f7858f3aa4b7aa5d6e5cbf9d8a194",
            "a5f8d6a93a6a4578974e9ac3ea2cc60c",
            "d07c6387f0ee437c94e89e6b2a156063"
          ]
        },
        "id": "3wBM_6zNw-rj",
        "outputId": "c1f51020-005f-4c68-c27e-851cab2086b8"
      },
      "execution_count": 5,
      "outputs": [
        {
          "output_type": "stream",
          "name": "stderr",
          "text": [
            "/usr/local/lib/python3.10/dist-packages/huggingface_hub/utils/_token.py:88: UserWarning: \n",
            "The secret `HF_TOKEN` does not exist in your Colab secrets.\n",
            "To authenticate with the Hugging Face Hub, create a token in your settings tab (https://huggingface.co/settings/tokens), set it as secret in your Google Colab and restart your session.\n",
            "You will be able to reuse this secret in all of your notebooks.\n",
            "Please note that authentication is recommended but still optional to access public models or datasets.\n",
            "  warnings.warn(\n"
          ]
        },
        {
          "output_type": "display_data",
          "data": {
            "text/plain": [
              "Downloading readme:   0%|          | 0.00/4.83k [00:00<?, ?B/s]"
            ],
            "application/vnd.jupyter.widget-view+json": {
              "version_major": 2,
              "version_minor": 0,
              "model_id": "850b26ad70804c268b9ccb24906da959"
            }
          },
          "metadata": {}
        },
        {
          "output_type": "display_data",
          "data": {
            "text/plain": [
              "Downloading metadata:   0%|          | 0.00/3.46k [00:00<?, ?B/s]"
            ],
            "application/vnd.jupyter.widget-view+json": {
              "version_major": 2,
              "version_minor": 0,
              "model_id": "d9f80912a0cf40ca9395081112f8408e"
            }
          },
          "metadata": {}
        },
        {
          "output_type": "display_data",
          "data": {
            "text/plain": [
              "Downloading data:   0%|          | 0.00/236M [00:00<?, ?B/s]"
            ],
            "application/vnd.jupyter.widget-view+json": {
              "version_major": 2,
              "version_minor": 0,
              "model_id": "4b1f6cd37e464bb7a499abe8069c5132"
            }
          },
          "metadata": {}
        },
        {
          "output_type": "display_data",
          "data": {
            "text/plain": [
              "Downloading data:   0%|          | 0.00/76.2M [00:00<?, ?B/s]"
            ],
            "application/vnd.jupyter.widget-view+json": {
              "version_major": 2,
              "version_minor": 0,
              "model_id": "cc555044054e4a8293d59b199aa3af81"
            }
          },
          "metadata": {}
        },
        {
          "output_type": "display_data",
          "data": {
            "text/plain": [
              "Generating train split:   0%|          | 0/39209 [00:00<?, ? examples/s]"
            ],
            "application/vnd.jupyter.widget-view+json": {
              "version_major": 2,
              "version_minor": 0,
              "model_id": "685de2eeb7e34c01bd6ea90ff7324c03"
            }
          },
          "metadata": {}
        },
        {
          "output_type": "display_data",
          "data": {
            "text/plain": [
              "Generating test split:   0%|          | 0/12630 [00:00<?, ? examples/s]"
            ],
            "application/vnd.jupyter.widget-view+json": {
              "version_major": 2,
              "version_minor": 0,
              "model_id": "631303587e4f45f493e5e9d947806c6f"
            }
          },
          "metadata": {}
        },
        {
          "output_type": "execute_result",
          "data": {
            "text/plain": [
              "GtsrbCNN(\n",
              "  (color_map): Conv2d(3, 3, kernel_size=(1, 1), stride=(1, 1))\n",
              "  (module1): Sequential(\n",
              "    (0): Conv2d(3, 32, kernel_size=(5, 5), stride=(1, 1), padding=(2, 2))\n",
              "    (1): ReLU()\n",
              "    (2): Conv2d(32, 32, kernel_size=(5, 5), stride=(1, 1), padding=(2, 2))\n",
              "    (3): MaxPool2d(kernel_size=2, stride=2, padding=0, dilation=1, ceil_mode=False)\n",
              "    (4): ReLU()\n",
              "    (5): Dropout(p=0.5, inplace=False)\n",
              "  )\n",
              "  (module2): Sequential(\n",
              "    (0): Conv2d(32, 64, kernel_size=(5, 5), stride=(1, 1), padding=(2, 2))\n",
              "    (1): ReLU()\n",
              "    (2): Conv2d(64, 64, kernel_size=(5, 5), stride=(1, 1), padding=(2, 2))\n",
              "    (3): MaxPool2d(kernel_size=2, stride=2, padding=0, dilation=1, ceil_mode=False)\n",
              "    (4): ReLU()\n",
              "    (5): Dropout(p=0.5, inplace=False)\n",
              "  )\n",
              "  (module3): Sequential(\n",
              "    (0): Conv2d(64, 128, kernel_size=(5, 5), stride=(1, 1), padding=(2, 2))\n",
              "    (1): ReLU()\n",
              "    (2): Conv2d(128, 128, kernel_size=(5, 5), stride=(1, 1), padding=(2, 2))\n",
              "    (3): MaxPool2d(kernel_size=2, stride=2, padding=0, dilation=1, ceil_mode=False)\n",
              "    (4): ReLU()\n",
              "    (5): Dropout(p=0.5, inplace=False)\n",
              "  )\n",
              "  (fc1): Sequential(\n",
              "    (0): Linear(in_features=14336, out_features=1024, bias=True)\n",
              "    (1): ReLU()\n",
              "    (2): Dropout(p=0.5, inplace=False)\n",
              "  )\n",
              "  (fc2): Sequential(\n",
              "    (0): Linear(in_features=1024, out_features=1024, bias=True)\n",
              "    (1): ReLU()\n",
              "    (2): Dropout(p=0.5, inplace=False)\n",
              "  )\n",
              "  (fc3): Linear(in_features=1024, out_features=43, bias=True)\n",
              ")"
            ]
          },
          "metadata": {},
          "execution_count": 5
        }
      ]
    },
    {
      "cell_type": "code",
      "source": [
        "### This is an aside. It is exclusively for finding large images to visualize"
      ],
      "metadata": {
        "id": "BNXoxuuaxE4s"
      },
      "execution_count": 6,
      "outputs": []
    },
    {
      "cell_type": "code",
      "source": [
        "my_list = (dataset['train']['Width'])\n",
        "indices = [index for index, element in enumerate(my_list) if element > 126]\n"
      ],
      "metadata": {
        "id": "gw-Z8W2xxC_c"
      },
      "execution_count": 7,
      "outputs": []
    },
    {
      "cell_type": "code",
      "source": [
        "len(indices)"
      ],
      "metadata": {
        "colab": {
          "base_uri": "https://localhost:8080/"
        },
        "id": "g_SZDojF39mE",
        "outputId": "8961a578-3fa5-434a-f862-8d0f2147997d"
      },
      "execution_count": 433,
      "outputs": [
        {
          "output_type": "execute_result",
          "data": {
            "text/plain": [
              "759"
            ]
          },
          "metadata": {},
          "execution_count": 433
        }
      ]
    },
    {
      "cell_type": "code",
      "source": [
        "indices"
      ],
      "metadata": {
        "id": "yCvIM-OFwxdu"
      },
      "execution_count": null,
      "outputs": []
    },
    {
      "cell_type": "code",
      "source": [
        "import random\n",
        "rand_int = random.randint(0, len(indices))\n",
        "\n",
        "img_index = indices[rand_int]\n"
      ],
      "metadata": {
        "id": "MMdh4Frj4Go-"
      },
      "execution_count": 631,
      "outputs": []
    },
    {
      "cell_type": "code",
      "source": [
        "img = dataset['train'][img_index]['Path']\n",
        "label = dataset['train'][img_index]['ClassId']\n",
        "\n",
        "pred_image(img, label)"
      ],
      "metadata": {
        "colab": {
          "base_uri": "https://localhost:8080/"
        },
        "id": "LJ04H4xPsnA7",
        "outputId": "2a8f3a5c-4978-4689-a32b-6666a574c97e"
      },
      "execution_count": 632,
      "outputs": [
        {
          "output_type": "stream",
          "name": "stdout",
          "text": [
            "Correct: True Predict: 30 Confidence: 84.43388938903809%\n"
          ]
        },
        {
          "output_type": "execute_result",
          "data": {
            "text/plain": [
              "30"
            ]
          },
          "metadata": {},
          "execution_count": 632
        }
      ]
    },
    {
      "cell_type": "code",
      "source": [
        "## Step 3: Attack that datapoint to create an adversarially modified image"
      ],
      "metadata": {
        "id": "nHD5MNlLyN9o"
      },
      "execution_count": 9,
      "outputs": []
    },
    {
      "cell_type": "code",
      "source": [
        "with tempfile.NamedTemporaryFile(suffix='.png', delete=False) as tmpfile:\n",
        "    img.save(tmpfile, format='PNG')"
      ],
      "metadata": {
        "colab": {
          "base_uri": "https://localhost:8080/",
          "height": 178
        },
        "id": "lpVfcIKpxbo5",
        "outputId": "0e555e5a-90f5-4218-8acf-5cdfb78622a1"
      },
      "execution_count": 3,
      "outputs": [
        {
          "output_type": "error",
          "ename": "NameError",
          "evalue": "name 'tempfile' is not defined",
          "traceback": [
            "\u001b[0;31m---------------------------------------------------------------------------\u001b[0m",
            "\u001b[0;31mNameError\u001b[0m                                 Traceback (most recent call last)",
            "\u001b[0;32m<ipython-input-3-8ae485453b04>\u001b[0m in \u001b[0;36m<cell line: 1>\u001b[0;34m()\u001b[0m\n\u001b[0;32m----> 1\u001b[0;31m \u001b[0;32mwith\u001b[0m \u001b[0mtempfile\u001b[0m\u001b[0;34m.\u001b[0m\u001b[0mNamedTemporaryFile\u001b[0m\u001b[0;34m(\u001b[0m\u001b[0msuffix\u001b[0m\u001b[0;34m=\u001b[0m\u001b[0;34m'.png'\u001b[0m\u001b[0;34m,\u001b[0m \u001b[0mdelete\u001b[0m\u001b[0;34m=\u001b[0m\u001b[0;32mFalse\u001b[0m\u001b[0;34m)\u001b[0m \u001b[0;32mas\u001b[0m \u001b[0mtmpfile\u001b[0m\u001b[0;34m:\u001b[0m\u001b[0;34m\u001b[0m\u001b[0;34m\u001b[0m\u001b[0m\n\u001b[0m\u001b[1;32m      2\u001b[0m     \u001b[0mimg\u001b[0m\u001b[0;34m.\u001b[0m\u001b[0msave\u001b[0m\u001b[0;34m(\u001b[0m\u001b[0mtmpfile\u001b[0m\u001b[0;34m,\u001b[0m \u001b[0mformat\u001b[0m\u001b[0;34m=\u001b[0m\u001b[0;34m'PNG'\u001b[0m\u001b[0;34m)\u001b[0m\u001b[0;34m\u001b[0m\u001b[0;34m\u001b[0m\u001b[0m\n",
            "\u001b[0;31mNameError\u001b[0m: name 'tempfile' is not defined"
          ]
        }
      ]
    },
    {
      "cell_type": "code",
      "source": [
        "# !python shadow_attack.py --shadow_level 0.43 --attack_db GTSRB --attack_type physical --image_path ./tmp/gtsrb_30.png --mask_path ./tmp/gtsrb_30_mask.png --image_label 1"
      ],
      "metadata": {
        "id": "YbzGyb3Nwl9R"
      },
      "execution_count": 160,
      "outputs": []
    },
    {
      "cell_type": "code",
      "source": [
        "### Hmm... need to create a mask file. How to do so?"
      ],
      "metadata": {
        "id": "yic6DoCzx4R6"
      },
      "execution_count": 161,
      "outputs": []
    },
    {
      "cell_type": "code",
      "source": [
        "img"
      ],
      "metadata": {
        "colab": {
          "base_uri": "https://localhost:8080/",
          "height": 163
        },
        "id": "2bj4Y5xOx--u",
        "outputId": "76d627c0-a070-4a3f-fa4c-4f4010741090"
      },
      "execution_count": 634,
      "outputs": [
        {
          "output_type": "execute_result",
          "data": {
            "text/plain": [
              "<PIL.PngImagePlugin.PngImageFile image mode=RGB size=168x146>"
            ],
            "image/png": "[encoded data removed]"
          },
          "metadata": {},
          "execution_count": 634
        }
      ]
    },
    {
      "cell_type": "code",
      "source": [
        "import torch\n",
        "import torchvision\n",
        "\n",
        "import sys\n",
        "!{sys.executable} -m pip install opencv-python matplotlib\n",
        "!{sys.executable} -m pip install 'git+https://github.com/facebookresearch/segment-anything.git'\n",
        "\n",
        "!wget https://dl.fbaipublicfiles.com/segment_anything/sam_vit_h_4b8939.pth"
      ],
      "metadata": {
        "id": "i36oJMlJz7eU"
      },
      "execution_count": null,
      "outputs": []
    },
    {
      "cell_type": "code",
      "source": [
        "import numpy as np\n",
        "import torch\n",
        "import matplotlib.pyplot as plt\n",
        "import cv2"
      ],
      "metadata": {
        "id": "VdYTzkTi0Bhh"
      },
      "execution_count": 1,
      "outputs": []
    },
    {
      "cell_type": "code",
      "source": [
        "image = cv2.imread(tmpfile.name)\n",
        "image = cv2.cvtColor(image, cv2.COLOR_BGR2RGB)"
      ],
      "metadata": {
        "colab": {
          "base_uri": "https://localhost:8080/",
          "height": 161
        },
        "id": "LEURmX7Z0F6g",
        "outputId": "0f745ad8-005c-47cb-b7d3-06c0ef24cfeb"
      },
      "execution_count": 2,
      "outputs": [
        {
          "output_type": "error",
          "ename": "NameError",
          "evalue": "name 'tmpfile' is not defined",
          "traceback": [
            "\u001b[0;31m---------------------------------------------------------------------------\u001b[0m",
            "\u001b[0;31mNameError\u001b[0m                                 Traceback (most recent call last)",
            "\u001b[0;32m<ipython-input-2-7df81f125ca1>\u001b[0m in \u001b[0;36m<cell line: 1>\u001b[0;34m()\u001b[0m\n\u001b[0;32m----> 1\u001b[0;31m \u001b[0mimage\u001b[0m \u001b[0;34m=\u001b[0m \u001b[0mcv2\u001b[0m\u001b[0;34m.\u001b[0m\u001b[0mimread\u001b[0m\u001b[0;34m(\u001b[0m\u001b[0mtmpfile\u001b[0m\u001b[0;34m.\u001b[0m\u001b[0mname\u001b[0m\u001b[0;34m)\u001b[0m\u001b[0;34m\u001b[0m\u001b[0;34m\u001b[0m\u001b[0m\n\u001b[0m\u001b[1;32m      2\u001b[0m \u001b[0mimage\u001b[0m \u001b[0;34m=\u001b[0m \u001b[0mcv2\u001b[0m\u001b[0;34m.\u001b[0m\u001b[0mcvtColor\u001b[0m\u001b[0;34m(\u001b[0m\u001b[0mimage\u001b[0m\u001b[0;34m,\u001b[0m \u001b[0mcv2\u001b[0m\u001b[0;34m.\u001b[0m\u001b[0mCOLOR_BGR2RGB\u001b[0m\u001b[0;34m)\u001b[0m\u001b[0;34m\u001b[0m\u001b[0;34m\u001b[0m\u001b[0m\n",
            "\u001b[0;31mNameError\u001b[0m: name 'tmpfile' is not defined"
          ]
        }
      ]
    },
    {
      "cell_type": "code",
      "source": [
        "image"
      ],
      "metadata": {
        "id": "id_BwMPG7i8Z"
      },
      "execution_count": null,
      "outputs": []
    },
    {
      "cell_type": "code",
      "source": [
        "import sys\n",
        "sys.path.append(\"..\")\n",
        "from segment_anything import sam_model_registry, SamAutomaticMaskGenerator, SamPredictor\n",
        "\n",
        "sam_checkpoint = \"sam_vit_h_4b8939.pth\"\n",
        "model_type = \"vit_h\"\n",
        "\n",
        "device = \"cuda\"\n",
        "\n",
        "sam = sam_model_registry[model_type](checkpoint=sam_checkpoint)\n",
        "sam.to(device=device)\n",
        "\n",
        "mask_generator = SamAutomaticMaskGenerator(sam)"
      ],
      "metadata": {
        "id": "C5ZyAtPa0SzN"
      },
      "execution_count": 545,
      "outputs": []
    },
    {
      "cell_type": "code",
      "source": [
        "masks = mask_generator.generate(image)"
      ],
      "metadata": {
        "id": "LrmvmNCx0WjU"
      },
      "execution_count": null,
      "outputs": []
    },
    {
      "cell_type": "code",
      "source": [
        "masks"
      ],
      "metadata": {
        "id": "R_KFCRjZ0cIo"
      },
      "execution_count": null,
      "outputs": []
    },
    {
      "cell_type": "code",
      "source": [
        "def show_anns(anns):\n",
        "    if len(anns) == 0:\n",
        "        return\n",
        "    sorted_anns = sorted(anns, key=(lambda x: x['area']), reverse=True)\n",
        "    ax = plt.gca()\n",
        "    ax.set_autoscale_on(False)\n",
        "\n",
        "    img = np.ones((sorted_anns[0]['segmentation'].shape[0], sorted_anns[0]['segmentation'].shape[1], 4))\n",
        "    img[:,:,3] = 0\n",
        "    for ann in sorted_anns:\n",
        "        m = ann['segmentation']\n",
        "        color_mask = np.concatenate([np.random.random(3), [0.35]])\n",
        "        img[m] = color_mask\n",
        "    ax.imshow(img)"
      ],
      "metadata": {
        "id": "KdYA9vCv0o5h"
      },
      "execution_count": 548,
      "outputs": []
    },
    {
      "cell_type": "code",
      "source": [
        "plt.figure(figsize=(20,20))\n",
        "plt.imshow(image)\n",
        "show_anns(masks)\n",
        "plt.axis('off')\n",
        "plt.show()"
      ],
      "metadata": {
        "colab": {
          "base_uri": "https://localhost:8080/",
          "height": 648
        },
        "id": "MPxNPTWF0jeJ",
        "outputId": "c7135421-c300-44a9-e497-5719879afbb2"
      },
      "execution_count": 549,
      "outputs": [
        {
          "output_type": "display_data",
          "data": {
            "text/plain": [
              "<Figure size 2000x2000 with 1 Axes>"
            ],
            "image/png": "[encoded data removed]"
          },
          "metadata": {}
        }
      ]
    },
    {
      "cell_type": "code",
      "source": [
        "max_index = 0"
      ],
      "metadata": {
        "id": "o8rUzYwvxcxh"
      },
      "execution_count": 550,
      "outputs": []
    },
    {
      "cell_type": "code",
      "source": [
        "plt.imshow(masks[max_index]['segmentation'])"
      ],
      "metadata": {
        "colab": {
          "base_uri": "https://localhost:8080/",
          "height": 452
        },
        "id": "ToM9N5st0slA",
        "outputId": "555df6fa-cc86-4b4c-fdaf-a25835bca6ae"
      },
      "execution_count": 551,
      "outputs": [
        {
          "output_type": "execute_result",
          "data": {
            "text/plain": [
              "<matplotlib.image.AxesImage at 0x7bb5c119e3e0>"
            ]
          },
          "metadata": {},
          "execution_count": 551
        },
        {
          "output_type": "display_data",
          "data": {
            "text/plain": [
              "<Figure size 640x480 with 1 Axes>"
            ],
            "image/png": "[encoded data removed]"
          },
          "metadata": {}
        }
      ]
    },
    {
      "cell_type": "code",
      "source": [
        "mask = Image.fromarray( masks[max_index]['segmentation'] ).convert(\"RGB\")"
      ],
      "metadata": {
        "id": "ZbxwU2K43J9_"
      },
      "execution_count": 552,
      "outputs": []
    },
    {
      "cell_type": "code",
      "source": [
        "with tempfile.NamedTemporaryFile(suffix='.png', delete=False) as maskfile:\n",
        "    mask.save(maskfile, format='PNG')"
      ],
      "metadata": {
        "id": "f6QgabHk1Mn-"
      },
      "execution_count": 553,
      "outputs": []
    },
    {
      "cell_type": "code",
      "source": [
        "mask = Image.open(\"/content/ShadowAttack/tmp/gtsrb_30_mask.png\")\n",
        "print(np.array(mask).shape)"
      ],
      "metadata": {
        "colab": {
          "base_uri": "https://localhost:8080/"
        },
        "id": "pEx5fAy02Nrc",
        "outputId": "ba71ee4b-ff2a-4af4-e26f-7ef2f4768389"
      },
      "execution_count": 554,
      "outputs": [
        {
          "output_type": "stream",
          "name": "stdout",
          "text": [
            "(240, 240, 3)\n"
          ]
        }
      ]
    },
    {
      "cell_type": "code",
      "source": [
        "mask = Image.open(maskfile.name)\n",
        "print(np.array(mask).shape)"
      ],
      "metadata": {
        "colab": {
          "base_uri": "https://localhost:8080/"
        },
        "id": "-m-niibp2mGc",
        "outputId": "d640c883-a87a-40eb-f793-7521b91ac8b5"
      },
      "execution_count": 555,
      "outputs": [
        {
          "output_type": "stream",
          "name": "stdout",
          "text": [
            "(129, 134, 3)\n"
          ]
        }
      ]
    },
    {
      "cell_type": "code",
      "source": [
        "print(label)\n",
        "print(maskfile.name)\n",
        "print(tmpfile.name)"
      ],
      "metadata": {
        "colab": {
          "base_uri": "https://localhost:8080/"
        },
        "id": "xAGdpSdq4U0U",
        "outputId": "3ab41d7a-3eb2-4812-d9d6-2b87d7002eea"
      },
      "execution_count": 556,
      "outputs": [
        {
          "output_type": "stream",
          "name": "stdout",
          "text": [
            "9\n",
            "/tmp/tmpz183jpna.png\n",
            "/tmp/tmp3owczxgx.png\n"
          ]
        }
      ]
    },
    {
      "cell_type": "code",
      "source": [
        "print(tmpfile.name)"
      ],
      "metadata": {
        "colab": {
          "base_uri": "https://localhost:8080/"
        },
        "id": "2ZD9uAId5FH1",
        "outputId": "1b057ca4-f669-441e-b396-1ad6726799ec"
      },
      "execution_count": 512,
      "outputs": [
        {
          "output_type": "stream",
          "name": "stdout",
          "text": [
            "/tmp/tmp_b1aemdf.png\n"
          ]
        }
      ]
    },
    {
      "cell_type": "code",
      "source": [
        "## Note: need to maually modify this file to get this function to work"
      ],
      "metadata": {
        "id": "C7T9JXhf0G9G"
      },
      "execution_count": 513,
      "outputs": []
    },
    {
      "cell_type": "code",
      "source": [
        "# !python shadow_attack.py --shadow_level 0.43 --attack_db GTSRB --attack_type physical --image_path /tmp/tmpging9ecc.png --mask_path /tmp/tmpcz1pukz2.png --image_label 1"
      ],
      "metadata": {
        "id": "zbjgh-Zq1KIG"
      },
      "execution_count": 514,
      "outputs": []
    },
    {
      "cell_type": "code",
      "source": [
        "## Recreate the above but outside of a file call for programatic path files"
      ],
      "metadata": {
        "id": "tasJZ3yANr1n"
      },
      "execution_count": 515,
      "outputs": []
    },
    {
      "cell_type": "code",
      "source": [
        "# from shadow_attack import attack\n",
        "# from lisa import LisaCNN"
      ],
      "metadata": {
        "id": "9kkZeNk-OWQb"
      },
      "execution_count": 516,
      "outputs": []
    },
    {
      "cell_type": "code",
      "source": [
        "attack_type = \"physical\""
      ],
      "metadata": {
        "id": "foZr010KNiUF"
      },
      "execution_count": 557,
      "outputs": []
    },
    {
      "cell_type": "code",
      "source": [
        "import os\n",
        "import cv2\n",
        "import json\n",
        "import torch\n",
        "import pickle\n",
        "import argparse\n",
        "import numpy as np\n",
        "from pso import PSO\n",
        "import gtsrb\n",
        "import lisa\n",
        "from gtsrb import GtsrbCNN\n",
        "from lisa import LisaCNN\n",
        "from utils import brightness\n",
        "from utils import shadow_edge_blur\n",
        "from utils import judge_mask_type\n",
        "from utils import draw_shadow\n",
        "from utils import load_mask\n",
        "from utils import pre_process_image\n",
        "from collections import Counter\n",
        "from torchvision import transforms"
      ],
      "metadata": {
        "id": "luU-48YcWXkk"
      },
      "execution_count": 558,
      "outputs": []
    },
    {
      "cell_type": "code",
      "source": [
        "pre_process = transforms.Compose([\n",
        "    pre_process_image, transforms.ToTensor()])\n",
        "\n",
        "\n",
        "assert attack_type in ['digital', 'physical']\n",
        "if attack_type == 'digital':\n",
        "    particle_size = 10\n",
        "    iter_num = 100\n",
        "    x_min, x_max = -16, 48\n",
        "    max_speed = 1.5\n",
        "else:\n",
        "    particle_size = 10\n",
        "    iter_num = 200\n",
        "    x_min, x_max = -112, 336\n",
        "    max_speed = 10.\n",
        "    n_try = 1"
      ],
      "metadata": {
        "id": "AkEN2PwtWfBr"
      },
      "execution_count": 559,
      "outputs": []
    },
    {
      "cell_type": "code",
      "source": [
        "def attack(attack_image, label, coords, targeted_attack=False, physical_attack=False, **parameters):\n",
        "    r\"\"\"\n",
        "    Physical-world adversarial attack by shadow.\n",
        "\n",
        "    Args:\n",
        "        attack_image: The image to be attacked.\n",
        "        label: The ground-truth label of attack_image.\n",
        "        coords: The coordinates of the points where mask == 1.\n",
        "        targeted_attack: Targeted / Non-targeted attack.\n",
        "        physical_attack: Physical / digital attack.\n",
        "\n",
        "    Returns:\n",
        "        adv_img: The generated adversarial image.\n",
        "        succeed: Whether the attack is successful.\n",
        "        num_query: Number of queries.\n",
        "    \"\"\"\n",
        "    num_query = 0\n",
        "    succeed = False\n",
        "    global_best_solution = float('inf')\n",
        "    global_best_position = None\n",
        "\n",
        "    for attempt in range(n_try):\n",
        "\n",
        "        if succeed:\n",
        "            break\n",
        "\n",
        "        print(f\"try {attempt + 1}:\", end=\" \")\n",
        "\n",
        "        pso = PSO(polygon*2, particle_size, iter_num, x_min, x_max, max_speed,\n",
        "                  shadow_level, attack_image, coords, model, targeted_attack,\n",
        "                  physical_attack, label, pre_process, **parameters)\n",
        "        best_solution, best_pos, succeed, query = pso.update_digital() \\\n",
        "            if not physical_attack else pso.update_physical()\n",
        "\n",
        "        if targeted_attack:\n",
        "            best_solution = 1 - best_solution\n",
        "        print(f\"Best solution: {best_solution} {'succeed' if succeed else 'failed'}\")\n",
        "        if best_solution < global_best_solution:\n",
        "            global_best_solution = best_solution\n",
        "            global_best_position = best_pos\n",
        "        num_query += query\n",
        "\n",
        "    adv_image, shadow_area = draw_shadow(\n",
        "        global_best_position, attack_image, coords, shadow_level)\n",
        "    adv_image = shadow_edge_blur(adv_image, shadow_area, 3)\n",
        "\n",
        "    return adv_image, succeed, num_query\n"
      ],
      "metadata": {
        "id": "PDZFeDMvWSle"
      },
      "execution_count": 560,
      "outputs": []
    },
    {
      "cell_type": "code",
      "source": [
        "def attack_physical(output_file):\n",
        "\n",
        "    global position_list\n",
        "\n",
        "    mask_image = cv2.resize(\n",
        "        cv2.imread(mask_path, cv2.IMREAD_UNCHANGED), (224, 224))\n",
        "    target_image = cv2.resize(\n",
        "        cv2.imread(image_path), (224, 224))\n",
        "    pos_list = np.where(mask_image.sum(axis=2) > 0)\n",
        "\n",
        "    # EOT is included in the first stage\n",
        "    adv_img, _, _ = attack(target_image, image_label, pos_list,\n",
        "                           physical_attack=True, transform_num=10)\n",
        "\n",
        "    cv2.imwrite('./tmp/temp.bmp', adv_img)\n",
        "    if attack_db == 'LISA':\n",
        "        predict, failed = lisa.test_single_image(\n",
        "            './tmp/temp.bmp', image_label, target_model == \"robust\")\n",
        "    else:\n",
        "        predict, failed = gtsrb.test_single_image(\n",
        "            './tmp/temp.bmp', image_label, target_model == \"robust\")\n",
        "    if failed:\n",
        "        print('Attack failed! Try to run again.')\n",
        "\n",
        "    # Predict stabilization\n",
        "    adv_img, _, _ = attack(target_image, image_label, pos_list, targeted_attack=True,\n",
        "                           physical_attack=True, target=predict, transform_num=10)\n",
        "\n",
        "    cv2.imwrite(output_file, adv_img)\n",
        "    # if attack_db == 'LISA':\n",
        "    #     predict, failed = lisa.test_single_image(\n",
        "    #         './tmp/adv_img.png', image_label, target_model == \"robust\")\n",
        "    # else:\n",
        "    #     predict, failed = gtsrb.test_single_image(\n",
        "    #         './tmp/adv_img.png', image_label, target_model == \"robust\")\n",
        "    # if failed:\n",
        "    #     print('Attack failed! Try to run again.')\n",
        "    # else:\n",
        "    #     print('Attack succeed! Try to implement it in the real world.')"
      ],
      "metadata": {
        "id": "4PwLJcDONqPE"
      },
      "execution_count": 561,
      "outputs": []
    },
    {
      "cell_type": "code",
      "source": [
        "shadow_level = 0.6\n",
        "target_model = \"normal\"\n",
        "attack_db = \"GTSRB\"\n",
        "image_path = tmpfile.name\n",
        "mask_path = maskfile.name\n",
        "image_label = label\n",
        "polygon = 4\n",
        "n_try = 5"
      ],
      "metadata": {
        "id": "05p40rHGj4KO"
      },
      "execution_count": 562,
      "outputs": []
    },
    {
      "cell_type": "code",
      "source": [
        "label"
      ],
      "metadata": {
        "colab": {
          "base_uri": "https://localhost:8080/"
        },
        "id": "jqZv_0G6yCON",
        "outputId": "a6eb68ed-f880-4f56-fee5-e5800f1ea35f"
      },
      "execution_count": 563,
      "outputs": [
        {
          "output_type": "execute_result",
          "data": {
            "text/plain": [
              "9"
            ]
          },
          "metadata": {},
          "execution_count": 563
        }
      ]
    },
    {
      "cell_type": "code",
      "source": [
        "attempt = 0"
      ],
      "metadata": {
        "id": "4ZEUl8hmgFBX"
      },
      "execution_count": 601,
      "outputs": []
    },
    {
      "cell_type": "code",
      "source": [
        "output_file = f\"/content/{img_index}_{shadow_level}_{attempt}.png\"\n",
        "attack_physical(output_file)\n",
        "attempt += 1"
      ],
      "metadata": {
        "colab": {
          "base_uri": "https://localhost:8080/"
        },
        "id": "lqeD7EydWHGZ",
        "outputId": "abcd5dcf-5122-489b-d7c7-b12207c95947"
      },
      "execution_count": 605,
      "outputs": [
        {
          "output_type": "stream",
          "name": "stdout",
          "text": [
            "try 1: iteration: 1 0.7560461163520813\n",
            "iteration: 2 0.5428546071052551\n",
            "iteration: 3 0.5057544112205505\n",
            "iteration: 4 0.4836820065975189\n",
            "iteration: 5 0.4836820065975189\n",
            "iteration: 6 0.4836820065975189\n",
            "iteration: 7 0.4836820065975189\n",
            "iteration: 8 0.4836820065975189\n",
            "iteration: 9 0.4836820065975189\n",
            "iteration: 10 0.4836820065975189\n",
            "iteration: 11 0.4836820065975189\n",
            "iteration: 12 0.4603814482688904\n",
            "iteration: 13 0.4603814482688904\n",
            "iteration: 14 0.4603814482688904\n",
            "iteration: 15 0.4603814482688904\n",
            "iteration: 16 0.4603814482688904\n",
            "iteration: 17 0.4603814482688904\n",
            "iteration: 18 0.37454748153686523\n",
            "iteration: 19 0.3477247953414917\n",
            "iteration: 20 0.3477247953414917\n",
            "iteration: 21 0.3477247953414917\n",
            "iteration: 22 0.11524815112352371\n",
            "iteration: 23 0.11524815112352371\n",
            "iteration: 24 0.11524815112352371\n",
            "iteration: 25 0.11524815112352371\n",
            "iteration: 26 0.11524815112352371\n",
            "iteration: 27 0.11524815112352371\n",
            "iteration: 28 0.11524815112352371\n",
            "iteration: 29 0.11524815112352371\n",
            "iteration: 30 0.11524815112352371\n",
            "iteration: 31 0.11524815112352371\n",
            "iteration: 32 0.11524815112352371\n",
            "iteration: 33 0.11524815112352371\n",
            "iteration: 34 0.11524815112352371\n",
            "iteration: 35 0.11524815112352371\n",
            "iteration: 36 0.04709625989198685\n",
            "iteration: 37 0.04709625989198685\n",
            "iteration: 38 0.04709625989198685\n",
            "iteration: 39 0.04709625989198685\n",
            "iteration: 40 0.04709625989198685\n",
            "iteration: 41 0.04709625989198685\n",
            "iteration: 42 0.04709625989198685\n",
            "iteration: 43 0.04709625989198685\n",
            "iteration: 44 0.04709625989198685\n",
            "iteration: 45 0.04709625989198685\n",
            "iteration: 46 0.04709625989198685\n",
            "iteration: 47 0.04709625989198685\n",
            "iteration: 48 0.04709625989198685\n",
            "iteration: 49 0.04709625989198685\n",
            "iteration: 50 0.04709625989198685\n",
            "iteration: 51 0.04709625989198685\n",
            "iteration: 52 0.04709625989198685\n",
            "iteration: 53 0.04709625989198685\n",
            "iteration: 54 0.04709625989198685\n",
            "iteration: 55 0.04709625989198685\n",
            "iteration: 56 0.04709625989198685\n",
            "iteration: 57 0.04709625989198685\n",
            "iteration: 58 0.04709625989198685\n",
            "iteration: 59 0.04709625989198685\n",
            "iteration: 60 0.04709625989198685\n",
            "iteration: 61 0.04709625989198685\n",
            "iteration: 62 0.04709625989198685\n",
            "iteration: 63 0.025446763262152672\n",
            "iteration: 64 0.025446763262152672\n",
            "iteration: 65 0.025446763262152672\n",
            "iteration: 66 0.025446763262152672\n",
            "iteration: 67 0.025446763262152672\n",
            "iteration: 68 0.025446763262152672\n",
            "iteration: 69 0.025446763262152672\n",
            "iteration: 70 0.025446763262152672\n",
            "iteration: 71 0.025446763262152672\n",
            "iteration: 72 0.025446763262152672\n",
            "iteration: 73 0.025446763262152672\n",
            "iteration: 74 0.025446763262152672\n",
            "iteration: 75 0.025446763262152672\n",
            "iteration: 76 0.025446763262152672\n",
            "iteration: 77 0.025446763262152672\n",
            "iteration: 78 0.025446763262152672\n",
            "iteration: 79 0.025446763262152672\n",
            "iteration: 80 0.025446763262152672\n",
            "iteration: 81 0.025446763262152672\n",
            "iteration: 82 0.025446763262152672\n",
            "iteration: 83 0.025446763262152672\n",
            "iteration: 84 0.025446763262152672\n",
            "iteration: 85 0.025446763262152672\n",
            "iteration: 86 0.025446763262152672\n",
            "iteration: 87 0.025446763262152672\n",
            "iteration: 88 0.025446763262152672\n",
            "iteration: 89 0.025446763262152672\n",
            "iteration: 90 0.025446763262152672\n",
            "iteration: 91 0.025446763262152672\n",
            "iteration: 92 0.025446763262152672\n",
            "iteration: 93 0.025446763262152672\n",
            "iteration: 94 0.025446763262152672\n",
            "iteration: 95 0.025446763262152672\n",
            "iteration: 96 0.025446763262152672\n",
            "iteration: 97 0.025446763262152672\n",
            "iteration: 98 0.025446763262152672\n",
            "iteration: 99 0.025446763262152672\n",
            "iteration: 100 0.025446763262152672\n",
            "iteration: 101 0.01736258715391159\n",
            "iteration: 102 0.013814431615173817\n",
            "iteration: 103 0.008105124346911907\n",
            "iteration: 104 0.006862805224955082\n",
            "iteration: 105 0.006862805224955082\n",
            "iteration: 106 0.005914133507758379\n",
            "iteration: 107 0.0038703647442162037\n",
            "iteration: 108 0.0038703647442162037\n",
            "iteration: 109 0.0038703647442162037\n",
            "iteration: 110 0.0038703647442162037\n",
            "iteration: 111 0.0038703647442162037\n",
            "iteration: 112 0.0038703647442162037\n",
            "iteration: 113 0.0038703647442162037\n",
            "iteration: 114 0.0038703647442162037\n",
            "iteration: 115 0.0038703647442162037\n",
            "iteration: 116 0.0038703647442162037\n",
            "iteration: 117 0.0038703647442162037\n",
            "iteration: 118 0.0038703647442162037\n",
            "iteration: 119 0.0038703647442162037\n",
            "iteration: 120 0.0038703647442162037\n",
            "iteration: 121 0.0038703647442162037\n",
            "iteration: 122 0.0038703647442162037\n",
            "iteration: 123 0.0035747860092669725\n",
            "iteration: 124 0.003465019864961505\n",
            "iteration: 125 0.0023762485943734646\n",
            "iteration: 126 0.0023762485943734646\n",
            "iteration: 127 0.0023762485943734646\n",
            "iteration: 128 0.0023762485943734646\n",
            "iteration: 129 0.0023762485943734646\n",
            "iteration: 130 0.002133913105353713\n",
            "iteration: 131 0.0014451517490670085\n",
            "iteration: 132 0.0014451517490670085\n",
            "iteration: 133 0.0014451517490670085\n",
            "iteration: 134 0.0014451517490670085\n",
            "iteration: 135 0.0014451517490670085\n",
            "iteration: 136 0.0014451517490670085\n",
            "iteration: 137 0.0014451517490670085\n",
            "iteration: 138 0.0014451517490670085\n",
            "iteration: 139 0.0014451517490670085\n",
            "iteration: 140 0.0014451517490670085\n",
            "iteration: 141 0.0014451517490670085\n",
            "iteration: 142 0.0014451517490670085\n",
            "iteration: 143 0.0014451517490670085\n",
            "iteration: 144 0.0014451517490670085\n",
            "iteration: 145 0.0014451517490670085\n",
            "iteration: 146 0.0014451517490670085\n",
            "iteration: 147 0.0014451517490670085\n",
            "iteration: 148 0.0014451517490670085\n",
            "iteration: 149 0.0014451517490670085\n",
            "iteration: 150 0.0014451517490670085\n",
            "iteration: 151 0.0014451517490670085\n",
            "iteration: 152 0.0014451517490670085\n",
            "iteration: 153 0.0014451517490670085\n",
            "iteration: 154 0.0014451517490670085\n",
            "iteration: 155 0.0014451517490670085\n",
            "iteration: 156 0.0014451517490670085\n",
            "iteration: 157 0.0014451517490670085\n",
            "iteration: 158 0.0014451517490670085\n",
            "iteration: 159 0.0014451517490670085\n",
            "iteration: 160 0.0014451517490670085\n",
            "iteration: 161 0.0014451517490670085\n",
            "iteration: 162 0.0014451517490670085\n",
            "iteration: 163 0.0014451517490670085\n",
            "iteration: 164 0.0014451517490670085\n",
            "iteration: 165 0.0014451517490670085\n",
            "iteration: 166 0.0014451517490670085\n",
            "iteration: 167 0.0014451517490670085\n",
            "iteration: 168 0.0014451517490670085\n",
            "iteration: 169 0.0014451517490670085\n",
            "iteration: 170 0.0014451517490670085\n",
            "iteration: 171 0.0014451517490670085\n",
            "iteration: 172 0.0014451517490670085\n",
            "iteration: 173 0.0014451517490670085\n",
            "iteration: 174 0.0014451517490670085\n",
            "iteration: 175 0.0014451517490670085\n",
            "iteration: 176 0.0014451517490670085\n",
            "iteration: 177 0.0014451517490670085\n",
            "iteration: 178 0.0014451517490670085\n",
            "iteration: 179 0.0014451517490670085\n",
            "iteration: 180 0.0014451517490670085\n",
            "iteration: 181 0.0014451517490670085\n",
            "iteration: 182 0.0014451517490670085\n",
            "iteration: 183 0.0014451517490670085\n",
            "iteration: 184 0.0014451517490670085\n",
            "iteration: 185 0.0014451517490670085\n",
            "iteration: 186 0.0014451517490670085\n",
            "iteration: 187 0.0014451517490670085\n",
            "iteration: 188 0.0014451517490670085\n",
            "iteration: 189 0.0014451517490670085\n",
            "iteration: 190 0.0014451517490670085\n",
            "iteration: 191 0.0014451517490670085\n",
            "iteration: 192 0.0014451517490670085\n",
            "iteration: 193 0.0014451517490670085\n",
            "iteration: 194 0.0014451517490670085\n",
            "iteration: 195 0.0014451517490670085\n",
            "iteration: 196 0.0014451517490670085\n",
            "iteration: 197 0.0014451517490670085\n",
            "iteration: 198 0.0014451517490670085\n",
            "iteration: 199 0.0014451517490670085\n",
            "iteration: 200 0.0014451517490670085\n",
            "Best solution: 0.0014451517490670085 succeed\n",
            "Correct: False Predict: 5 Confidence: 92.47429966926575%\n",
            "try 1: iteration: 1 0.9762788414955139\n",
            "iteration: 2 0.9762788414955139\n",
            "iteration: 3 0.9716687798500061\n",
            "iteration: 4 0.9716687798500061\n",
            "iteration: 5 0.9716687798500061\n",
            "iteration: 6 0.9716687798500061\n",
            "iteration: 7 0.9574304223060608\n",
            "iteration: 8 0.9574304223060608\n",
            "iteration: 9 0.9574304223060608\n",
            "iteration: 10 0.9574304223060608\n",
            "iteration: 11 0.9523610472679138\n",
            "iteration: 12 0.9523610472679138\n",
            "iteration: 13 0.9523610472679138\n",
            "iteration: 14 0.93796306848526\n",
            "iteration: 15 0.93796306848526\n",
            "iteration: 16 0.9328871369361877\n",
            "iteration: 17 0.9328871369361877\n",
            "iteration: 18 0.9328871369361877\n",
            "iteration: 19 0.9328871369361877\n",
            "iteration: 20 0.9328871369361877\n",
            "iteration: 21 0.9328871369361877\n",
            "iteration: 22 0.9328871369361877\n",
            "iteration: 23 0.9328871369361877\n",
            "iteration: 24 0.9328871369361877\n",
            "iteration: 25 0.9328871369361877\n",
            "iteration: 26 0.9328871369361877\n",
            "iteration: 27 0.9328871369361877\n",
            "iteration: 28 0.9328871369361877\n",
            "iteration: 29 0.9328871369361877\n",
            "iteration: 30 0.9328871369361877\n",
            "iteration: 31 0.9328871369361877\n",
            "iteration: 32 0.9328871369361877\n",
            "iteration: 33 0.9328871369361877\n",
            "iteration: 34 0.9328871369361877\n",
            "iteration: 35 0.9328871369361877\n",
            "iteration: 36 0.9302711486816406\n",
            "iteration: 37 0.9302711486816406\n",
            "iteration: 38 0.9302711486816406\n",
            "iteration: 39 0.9302711486816406\n",
            "iteration: 40 0.9302711486816406\n",
            "iteration: 41 0.8517967462539673\n",
            "iteration: 42 0.8498389720916748\n",
            "iteration: 43 0.8498389720916748\n",
            "iteration: 44 0.8498389720916748\n",
            "iteration: 45 0.8095697164535522\n",
            "iteration: 46 0.8095697164535522\n",
            "iteration: 47 0.8095697164535522\n",
            "iteration: 48 0.8095697164535522\n",
            "iteration: 49 0.794546902179718\n",
            "iteration: 50 0.794546902179718\n",
            "iteration: 51 0.794546902179718\n",
            "iteration: 52 0.794546902179718\n",
            "iteration: 53 0.794546902179718\n",
            "iteration: 54 0.7936971783638\n",
            "iteration: 55 0.7936971783638\n",
            "iteration: 56 0.7632520794868469\n",
            "iteration: 57 0.7632520794868469\n",
            "iteration: 58 0.7632520794868469\n",
            "iteration: 59 0.7632520794868469\n",
            "iteration: 60 0.7632520794868469\n",
            "iteration: 61 0.7632520794868469\n",
            "iteration: 62 0.7632520794868469\n",
            "iteration: 63 0.7632520794868469\n",
            "iteration: 64 0.7632520794868469\n",
            "iteration: 65 0.7632520794868469\n",
            "iteration: 66 0.7632520794868469\n",
            "iteration: 67 0.7632520794868469\n",
            "iteration: 68 0.7632520794868469\n",
            "iteration: 69 0.7632520794868469\n",
            "iteration: 70 0.7632520794868469\n",
            "iteration: 71 0.7632520794868469\n",
            "iteration: 72 0.7632520794868469\n",
            "iteration: 73 0.7632520794868469\n",
            "iteration: 74 0.7632520794868469\n",
            "iteration: 75 0.7469093799591064\n",
            "iteration: 76 0.7469093799591064\n",
            "iteration: 77 0.7469093799591064\n",
            "iteration: 78 0.7469093799591064\n",
            "iteration: 79 0.6603249311447144\n",
            "iteration: 80 0.6603249311447144\n",
            "iteration: 81 0.6603249311447144\n",
            "iteration: 82 0.6603249311447144\n",
            "iteration: 83 0.6603249311447144\n",
            "iteration: 84 0.6603249311447144\n",
            "iteration: 85 0.6603249311447144\n",
            "iteration: 86 0.6603249311447144\n",
            "iteration: 87 0.5361495018005371\n",
            "iteration: 88 0.5361495018005371\n",
            "iteration: 89 0.5361495018005371\n",
            "iteration: 90 0.5361495018005371\n",
            "iteration: 91 0.5361495018005371\n",
            "iteration: 92 0.5361495018005371\n",
            "iteration: 93 0.5361495018005371\n",
            "iteration: 94 0.5361495018005371\n",
            "iteration: 95 0.5361495018005371\n",
            "iteration: 96 0.5361495018005371\n",
            "iteration: 97 0.5361495018005371\n",
            "iteration: 98 0.5361495018005371\n",
            "iteration: 99 0.5361495018005371\n",
            "iteration: 100 0.5361495018005371\n",
            "iteration: 101 0.4162898063659668\n",
            "iteration: 102 0.4162898063659668\n",
            "iteration: 103 0.17874258756637573\n",
            "iteration: 104 0.17874258756637573\n",
            "iteration: 105 0.17874258756637573\n",
            "iteration: 106 0.17874258756637573\n",
            "iteration: 107 0.17874258756637573\n",
            "iteration: 108 0.17874258756637573\n",
            "iteration: 109 0.09633243083953857\n",
            "iteration: 110 0.06753718852996826\n",
            "iteration: 111 0.06753718852996826\n",
            "iteration: 112 0.06753718852996826\n",
            "iteration: 113 0.06753718852996826\n",
            "iteration: 114 0.06753718852996826\n",
            "iteration: 115 0.06753718852996826\n",
            "iteration: 116 0.06753718852996826\n",
            "iteration: 117 0.06753718852996826\n",
            "iteration: 118 0.06753718852996826\n",
            "iteration: 119 0.06753718852996826\n",
            "iteration: 120 0.06753718852996826\n",
            "iteration: 121 0.06753718852996826\n",
            "iteration: 122 0.06753718852996826\n",
            "iteration: 123 0.06753718852996826\n",
            "iteration: 124 0.06753718852996826\n",
            "iteration: 125 0.06753718852996826\n",
            "iteration: 126 0.06753718852996826\n",
            "iteration: 127 0.06753718852996826\n",
            "iteration: 128 0.06753718852996826\n",
            "iteration: 129 0.06753718852996826\n",
            "iteration: 130 0.06753718852996826\n",
            "iteration: 131 0.06753718852996826\n",
            "iteration: 132 0.06753718852996826\n",
            "iteration: 133 0.06753718852996826\n",
            "iteration: 134 0.06753718852996826\n",
            "iteration: 135 0.06753718852996826\n",
            "iteration: 136 0.06753718852996826\n",
            "iteration: 137 0.06753718852996826\n",
            "iteration: 138 0.06753718852996826\n",
            "iteration: 139 0.06552469730377197\n",
            "iteration: 140 0.06552469730377197\n",
            "iteration: 141 0.06434470415115356\n",
            "iteration: 142 0.05822122097015381\n",
            "iteration: 143 0.05822122097015381\n",
            "iteration: 144 0.05822122097015381\n",
            "iteration: 145 0.05822122097015381\n",
            "iteration: 146 0.05822122097015381\n",
            "iteration: 147 0.05822122097015381\n",
            "iteration: 148 0.04962635040283203\n",
            "iteration: 149 0.04962635040283203\n",
            "iteration: 150 0.04962635040283203\n",
            "iteration: 151 0.04962635040283203\n",
            "iteration: 152 0.04962635040283203\n",
            "iteration: 153 0.04962635040283203\n",
            "iteration: 154 0.04962635040283203\n",
            "iteration: 155 0.04962635040283203\n",
            "iteration: 156 0.04962635040283203\n",
            "iteration: 157 0.04962635040283203\n",
            "iteration: 158 0.04962635040283203\n",
            "iteration: 159 0.04962635040283203\n",
            "iteration: 160 0.04962635040283203\n",
            "iteration: 161 0.04962635040283203\n",
            "iteration: 162 0.04962635040283203\n",
            "iteration: 163 0.04962635040283203\n",
            "iteration: 164 0.04962635040283203\n",
            "iteration: 165 0.04962635040283203\n",
            "iteration: 166 0.04962635040283203\n",
            "iteration: 167 0.04962635040283203\n",
            "iteration: 168 0.04962635040283203\n",
            "iteration: 169 0.04962635040283203\n",
            "iteration: 170 0.04962635040283203\n",
            "iteration: 171 0.04962635040283203\n",
            "iteration: 172 0.04962635040283203\n",
            "iteration: 173 0.04962635040283203\n",
            "iteration: 174 0.04962635040283203\n",
            "iteration: 175 0.04962635040283203\n",
            "iteration: 176 0.04962635040283203\n",
            "iteration: 177 0.04962635040283203\n",
            "iteration: 178 0.04962635040283203\n",
            "iteration: 179 0.04962635040283203\n",
            "iteration: 180 0.04962635040283203\n",
            "iteration: 181 0.04962635040283203\n",
            "iteration: 182 0.04962635040283203\n",
            "iteration: 183 0.04962635040283203\n",
            "iteration: 184 0.04898923635482788\n",
            "iteration: 185 0.04862964153289795\n",
            "iteration: 186 0.04862964153289795\n",
            "iteration: 187 0.04862964153289795\n",
            "iteration: 188 0.04862964153289795\n",
            "iteration: 189 0.04862964153289795\n",
            "iteration: 190 0.04862964153289795\n",
            "iteration: 191 0.04862964153289795\n",
            "iteration: 192 0.04862964153289795\n",
            "iteration: 193 0.04862964153289795\n",
            "iteration: 194 0.04862964153289795\n",
            "iteration: 195 0.04862964153289795\n",
            "iteration: 196 0.04862964153289795\n",
            "iteration: 197 0.04862964153289795\n",
            "iteration: 198 0.04862964153289795\n",
            "iteration: 199 0.04862964153289795\n",
            "iteration: 200 0.04862964153289795\n",
            "Best solution: 0.951370358467102 succeed\n"
          ]
        }
      ]
    },
    {
      "cell_type": "code",
      "source": [
        "## Step 4: Run the model on the adversarially modified image to show that the attack worked"
      ],
      "metadata": {
        "id": "NoSolNcyymMc"
      },
      "execution_count": null,
      "outputs": []
    },
    {
      "cell_type": "code",
      "source": [
        "test_single_image(output_file, label)\n",
        "print(output_file)"
      ],
      "metadata": {
        "colab": {
          "base_uri": "https://localhost:8080/"
        },
        "id": "ZZpm381w5fUB",
        "outputId": "057cfd9c-81c2-45c7-f58d-83ea5fcc58b9"
      },
      "execution_count": 607,
      "outputs": [
        {
          "output_type": "stream",
          "name": "stdout",
          "text": [
            "Correct: False Predict: 5 Confidence: 94.36851739883423%\n",
            "/content/14429_0.6_1.png\n"
          ]
        }
      ]
    },
    {
      "cell_type": "code",
      "source": [
        "img.save(\"/content/base.png\")"
      ],
      "metadata": {
        "colab": {
          "base_uri": "https://localhost:8080/",
          "height": 143
        },
        "id": "HDtYDWYovXur",
        "outputId": "aabf705c-5437-47ac-d227-54c6a59952bd"
      },
      "execution_count": 608,
      "outputs": [
        {
          "output_type": "error",
          "ename": "AttributeError",
          "evalue": "'Tensor' object has no attribute 'save'",
          "traceback": [
            "\u001b[0;31m---------------------------------------------------------------------------\u001b[0m",
            "\u001b[0;31mAttributeError\u001b[0m                            Traceback (most recent call last)",
            "\u001b[0;32m<ipython-input-608-3f61e8f2c133>\u001b[0m in \u001b[0;36m<cell line: 1>\u001b[0;34m()\u001b[0m\n\u001b[0;32m----> 1\u001b[0;31m \u001b[0mimg\u001b[0m\u001b[0;34m.\u001b[0m\u001b[0msave\u001b[0m\u001b[0;34m(\u001b[0m\u001b[0;34m\"/content/base.png\"\u001b[0m\u001b[0;34m)\u001b[0m\u001b[0;34m\u001b[0m\u001b[0;34m\u001b[0m\u001b[0m\n\u001b[0m",
            "\u001b[0;31mAttributeError\u001b[0m: 'Tensor' object has no attribute 'save'"
          ]
        }
      ]
    },
    {
      "cell_type": "code",
      "source": [
        "# Done! Now I need to clean and get explainations working"
      ],
      "metadata": {
        "id": "TloViF2t5uSf"
      },
      "execution_count": null,
      "outputs": []
    },
    {
      "cell_type": "code",
      "source": [
        "!git clone https://github.com/inkyubeytor/explainability-challenges.git"
      ],
      "metadata": {
        "id": "B0-97UCqwYhz"
      },
      "execution_count": null,
      "outputs": []
    },
    {
      "cell_type": "code",
      "source": [
        "!git clone https://github.com/inkyubeytor/explainability-challenges.git > /dev/null 2>&1\n",
        "!pip install datasets > /dev/null 2>&1\n",
        "!pip install grad-cam > /dev/null 2>&1\n",
        "!pip install torchattacks > /dev/null 2>&1"
      ],
      "metadata": {
        "id": "r-ptMaVlwLLp"
      },
      "execution_count": null,
      "outputs": []
    },
    {
      "cell_type": "code",
      "source": [
        "def pre_process_image(image):\n",
        "    image[:, :, 0] = cv2.equalizeHist(image[:, :, 0])\n",
        "    image[:, :, 1] = cv2.equalizeHist(image[:, :, 1])\n",
        "    image[:, :, 2] = cv2.equalizeHist(image[:, :, 2])\n",
        "    image = image / 255. - .5\n",
        "    return image.astype(np.float32)"
      ],
      "metadata": {
        "id": "oABYzh4Zk656"
      },
      "execution_count": 609,
      "outputs": []
    },
    {
      "cell_type": "code",
      "source": [
        "img_file = output_file"
      ],
      "metadata": {
        "id": "rcfJTIQ2lD5v"
      },
      "execution_count": 610,
      "outputs": []
    },
    {
      "cell_type": "code",
      "source": [
        "target_image = cv2.resize(\n",
        "        cv2.imread(img_file), (224, 224))\n",
        "\n",
        "pre_process = transforms.Compose([\n",
        "        pre_process_image, transforms.ToTensor()])\n",
        "\n",
        "target_image = cv2.resize(\n",
        "        target_image, (32, 32))\n"
      ],
      "metadata": {
        "id": "uh1ShpnLlJSu"
      },
      "execution_count": 611,
      "outputs": []
    },
    {
      "cell_type": "code",
      "source": [
        "img = pre_process(target_image)"
      ],
      "metadata": {
        "id": "l69hmN2plJ3z"
      },
      "execution_count": 612,
      "outputs": []
    },
    {
      "cell_type": "code",
      "source": [
        "probs = torch.softmax(model(img.unsqueeze(dim=0).to(device)), 1)"
      ],
      "metadata": {
        "id": "qDbjM-rblOQ0"
      },
      "execution_count": 613,
      "outputs": []
    },
    {
      "cell_type": "code",
      "source": [
        "probs"
      ],
      "metadata": {
        "colab": {
          "base_uri": "https://localhost:8080/"
        },
        "id": "zZbbEEv_lR2W",
        "outputId": "ebf655e9-4f63-48fb-bb03-c6b1789ba1fd"
      },
      "execution_count": 614,
      "outputs": [
        {
          "output_type": "execute_result",
          "data": {
            "text/plain": [
              "tensor([[9.7501e-04, 5.1300e-03, 8.1737e-03, 5.5111e-03, 8.2962e-04, 9.4369e-01,\n",
              "         1.7601e-03, 3.7888e-03, 1.6872e-03, 1.4341e-03, 5.8887e-03, 4.5771e-04,\n",
              "         1.1771e-03, 1.4735e-03, 6.4480e-04, 1.3937e-03, 5.2851e-04, 6.9116e-04,\n",
              "         7.3100e-04, 5.3007e-04, 6.8795e-04, 9.7589e-04, 5.5672e-04, 4.7843e-04,\n",
              "         3.8107e-04, 7.0650e-04, 4.8392e-04, 4.3322e-04, 5.3194e-04, 7.7381e-04,\n",
              "         4.9400e-04, 6.7202e-04, 4.2818e-04, 5.0712e-04, 4.5105e-04, 3.7405e-04,\n",
              "         4.8389e-04, 5.2004e-04, 5.9408e-04, 5.0064e-04, 7.1361e-04, 5.0977e-04,\n",
              "         1.2510e-03]], device='cuda:0', grad_fn=<SoftmaxBackward0>)"
            ]
          },
          "metadata": {},
          "execution_count": 614
        }
      ]
    },
    {
      "cell_type": "code",
      "source": [
        "probs[0].argmax()"
      ],
      "metadata": {
        "colab": {
          "base_uri": "https://localhost:8080/"
        },
        "id": "JL40bRzblWZV",
        "outputId": "d8381dfe-ec6a-48c3-d0b9-0d499bb43236"
      },
      "execution_count": 615,
      "outputs": [
        {
          "output_type": "execute_result",
          "data": {
            "text/plain": [
              "tensor(5, device='cuda:0')"
            ]
          },
          "metadata": {},
          "execution_count": 615
        }
      ]
    },
    {
      "cell_type": "code",
      "source": [
        "probs[0, 5]"
      ],
      "metadata": {
        "colab": {
          "base_uri": "https://localhost:8080/"
        },
        "id": "t-uhwuLAljWO",
        "outputId": "69d7a8df-734f-41b7-cefd-3232f66df866"
      },
      "execution_count": 616,
      "outputs": [
        {
          "output_type": "execute_result",
          "data": {
            "text/plain": [
              "tensor(0.9437, device='cuda:0', grad_fn=<SelectBackward0>)"
            ]
          },
          "metadata": {},
          "execution_count": 616
        }
      ]
    },
    {
      "cell_type": "code",
      "source": [
        "import sys\n",
        "import torch\n",
        "import requests\n",
        "import torchvision\n",
        "import numpy as np\n",
        "\n",
        "sys.path.insert(1, \"./explainability-challenges/src/\")\n",
        "\n",
        "import matplotlib.pyplot as plt\n",
        "from datasets import load_dataset\n",
        "from torchvision import transforms, models\n",
        "from explainability.image.image_attacks import add_noise, add_blur, \\\n",
        "    add_occlusion, add_dual_class, adversarial_attack, get_ood"
      ],
      "metadata": {
        "id": "XQskf-99lrpi"
      },
      "execution_count": 617,
      "outputs": []
    },
    {
      "cell_type": "code",
      "source": [
        "from explainability.image.image_explanations import grad_cam, eigen_cam, guided_backprop"
      ],
      "metadata": {
        "id": "BZgZ-D1BltHX"
      },
      "execution_count": 618,
      "outputs": []
    },
    {
      "cell_type": "code",
      "source": [
        "from pytorch_grad_cam import EigenCAM, GradCAM\n",
        "from pytorch_grad_cam.utils.image import scale_cam_image, show_cam_on_image\n",
        "from pytorch_grad_cam.utils.model_targets import FasterRCNNBoxScoreTarget\n",
        "from pytorch_grad_cam.utils.reshape_transforms import \\\n",
        "    fasterrcnn_reshape_transform\n",
        "from torch.autograd import Variable\n",
        "from torch.nn import ReLU"
      ],
      "metadata": {
        "id": "e4teV_Xlluj1"
      },
      "execution_count": 619,
      "outputs": []
    },
    {
      "cell_type": "code",
      "source": [
        "model"
      ],
      "metadata": {
        "colab": {
          "base_uri": "https://localhost:8080/"
        },
        "id": "AM2FSxTyvHwO",
        "outputId": "307b0fa9-3299-4b3f-a3cc-b890988486c0"
      },
      "execution_count": 620,
      "outputs": [
        {
          "output_type": "execute_result",
          "data": {
            "text/plain": [
              "GtsrbCNN(\n",
              "  (color_map): Conv2d(3, 3, kernel_size=(1, 1), stride=(1, 1))\n",
              "  (module1): Sequential(\n",
              "    (0): Conv2d(3, 32, kernel_size=(5, 5), stride=(1, 1), padding=(2, 2))\n",
              "    (1): ReLU()\n",
              "    (2): Conv2d(32, 32, kernel_size=(5, 5), stride=(1, 1), padding=(2, 2))\n",
              "    (3): MaxPool2d(kernel_size=2, stride=2, padding=0, dilation=1, ceil_mode=False)\n",
              "    (4): ReLU()\n",
              "    (5): Dropout(p=0.5, inplace=False)\n",
              "  )\n",
              "  (module2): Sequential(\n",
              "    (0): Conv2d(32, 64, kernel_size=(5, 5), stride=(1, 1), padding=(2, 2))\n",
              "    (1): ReLU()\n",
              "    (2): Conv2d(64, 64, kernel_size=(5, 5), stride=(1, 1), padding=(2, 2))\n",
              "    (3): MaxPool2d(kernel_size=2, stride=2, padding=0, dilation=1, ceil_mode=False)\n",
              "    (4): ReLU()\n",
              "    (5): Dropout(p=0.5, inplace=False)\n",
              "  )\n",
              "  (module3): Sequential(\n",
              "    (0): Conv2d(64, 128, kernel_size=(5, 5), stride=(1, 1), padding=(2, 2))\n",
              "    (1): ReLU()\n",
              "    (2): Conv2d(128, 128, kernel_size=(5, 5), stride=(1, 1), padding=(2, 2))\n",
              "    (3): MaxPool2d(kernel_size=2, stride=2, padding=0, dilation=1, ceil_mode=False)\n",
              "    (4): ReLU()\n",
              "    (5): Dropout(p=0.5, inplace=False)\n",
              "  )\n",
              "  (fc1): Sequential(\n",
              "    (0): Linear(in_features=14336, out_features=1024, bias=True)\n",
              "    (1): ReLU()\n",
              "    (2): Dropout(p=0.5, inplace=False)\n",
              "  )\n",
              "  (fc2): Sequential(\n",
              "    (0): Linear(in_features=1024, out_features=1024, bias=True)\n",
              "    (1): ReLU()\n",
              "    (2): Dropout(p=0.5, inplace=False)\n",
              "  )\n",
              "  (fc3): Linear(in_features=1024, out_features=43, bias=True)\n",
              ")"
            ]
          },
          "metadata": {},
          "execution_count": 620
        }
      ]
    },
    {
      "cell_type": "code",
      "source": [
        "def grad_cam_heatmap(image, model):\n",
        "    target_layers = [model.module2[-1]]\n",
        "    cam = GradCAM(model=model, target_layers=target_layers)\n",
        "    targets = None\n",
        "    grayscale_cam = cam(input_tensor=image, targets=targets)\n",
        "\n",
        "    grayscale_cam = grayscale_cam[0, :]\n",
        "\n",
        "    return grayscale_cam"
      ],
      "metadata": {
        "id": "TQdMsflhlwD_"
      },
      "execution_count": 621,
      "outputs": []
    },
    {
      "cell_type": "code",
      "source": [
        "target_image = cv2.resize(\n",
        "        cv2.imread(img_file), (224, 224))"
      ],
      "metadata": {
        "id": "FHqAFRuUlxjy"
      },
      "execution_count": 622,
      "outputs": []
    },
    {
      "cell_type": "code",
      "source": [
        "vis = grad_cam_heatmap(img.unsqueeze(dim=0), model)\n",
        "plt.axis('off')\n",
        "plt.imshow(vis)"
      ],
      "metadata": {
        "colab": {
          "base_uri": "https://localhost:8080/",
          "height": 424
        },
        "id": "RBmv1f2qlzIf",
        "outputId": "37bf97e7-219f-4fb9-d89a-a85a7a3958e3"
      },
      "execution_count": 623,
      "outputs": [
        {
          "output_type": "execute_result",
          "data": {
            "text/plain": [
              "<matplotlib.image.AxesImage at 0x7bb560e671f0>"
            ]
          },
          "metadata": {},
          "execution_count": 623
        },
        {
          "output_type": "display_data",
          "data": {
            "text/plain": [
              "<Figure size 640x480 with 1 Axes>"
            ],
            "image/png": "[encoded data removed]"
          },
          "metadata": {}
        }
      ]
    },
    {
      "cell_type": "code",
      "source": [
        "img"
      ],
      "metadata": {
        "colab": {
          "base_uri": "https://localhost:8080/"
        },
        "id": "f-1-6tUq3HtN",
        "outputId": "1e697e81-17fe-4b47-bbbc-2ea05f62e3d3"
      },
      "execution_count": 624,
      "outputs": [
        {
          "output_type": "execute_result",
          "data": {
            "text/plain": [
              "tensor([[[ 0.1902, -0.0412, -0.3039,  ..., -0.1118,  0.1314,  0.2137],\n",
              "         [-0.1431, -0.1549, -0.1824,  ...,  0.1902,  0.2333,  0.3431],\n",
              "         [-0.2294, -0.1157,  0.0490,  ...,  0.2216,  0.3588,  0.1118],\n",
              "         ...,\n",
              "         [ 0.1078,  0.1235,  0.2059,  ...,  0.3863,  0.4255,  0.4098],\n",
              "         [ 0.1549,  0.3314,  0.4176,  ...,  0.4255,  0.4725,  0.4451],\n",
              "         [ 0.1627,  0.1824,  0.3471,  ...,  0.4569,  0.4843,  0.4725]],\n",
              "\n",
              "        [[ 0.2137,  0.0608, -0.2412,  ..., -0.0373,  0.1627,  0.3196],\n",
              "         [-0.1039, -0.1235, -0.1431,  ...,  0.3000,  0.3353,  0.3431],\n",
              "         [-0.2098, -0.0490,  0.0765,  ...,  0.3353,  0.3627,  0.1510],\n",
              "         ...,\n",
              "         [ 0.1078,  0.1824,  0.3314,  ...,  0.3980,  0.4373,  0.4255],\n",
              "         [ 0.1314,  0.3275,  0.4255,  ...,  0.4333,  0.4686,  0.4529],\n",
              "         [ 0.1275,  0.1941,  0.3627,  ...,  0.4608,  0.4725,  0.4725]],\n",
              "\n",
              "        [[ 0.3000,  0.0451, -0.4647,  ..., -0.0255,  0.2843,  0.3196],\n",
              "         [-0.0373, -0.1706, -0.2608,  ...,  0.3157,  0.3392,  0.3471],\n",
              "         [-0.4333, -0.0765,  0.1078,  ...,  0.3314,  0.3588,  0.1706],\n",
              "         ...,\n",
              "         [ 0.1078,  0.2647,  0.3275,  ...,  0.3980,  0.4412,  0.4333],\n",
              "         [ 0.1078,  0.2922,  0.4294,  ...,  0.4490,  0.4686,  0.4608],\n",
              "         [ 0.0647,  0.1706,  0.3588,  ...,  0.4686,  0.4686,  0.5000]]])"
            ]
          },
          "metadata": {},
          "execution_count": 624
        }
      ]
    },
    {
      "cell_type": "code",
      "source": [
        "import torch\n",
        "import torch.nn.functional as F\n",
        "\n",
        "# Assuming x is your grayscale image tensor with shape (32, 32)\n",
        "# Add batch_size and channels dimensions to make it (1, 1, 32, 32)\n",
        "x = torch.tensor(vis).unsqueeze(0).unsqueeze(0)\n",
        "\n",
        "# Interpolate to the new size (255, 255)\n",
        "x_interpolated = F.interpolate(x, size=(224, 224), mode='bilinear', align_corners=False).squeeze()\n",
        "\n",
        "# x_interpolated will now have the shape (1, 1, 255, 255)\n"
      ],
      "metadata": {
        "id": "SOs8gPYrl08g"
      },
      "execution_count": 625,
      "outputs": []
    },
    {
      "cell_type": "code",
      "source": [
        "orig=torch.tensor(target_image / 255).permute(2, 0, 1)"
      ],
      "metadata": {
        "id": "tSTXBpZYl3ZP"
      },
      "execution_count": 626,
      "outputs": []
    },
    {
      "cell_type": "code",
      "source": [
        "x_interpolated.repeat_interleave(3, dim=0).view(224, 224, 3)"
      ],
      "metadata": {
        "colab": {
          "base_uri": "https://localhost:8080/"
        },
        "id": "uVDkhUYMl47K",
        "outputId": "6a8aa883-cb93-49cf-b5f8-7609f5ef2feb"
      },
      "execution_count": 627,
      "outputs": [
        {
          "output_type": "execute_result",
          "data": {
            "text/plain": [
              "tensor([[[0.0035, 0.0035, 0.0035],\n",
              "         [0.0035, 0.0035, 0.0035],\n",
              "         [0.0035, 0.0035, 0.0035],\n",
              "         ...,\n",
              "         [0.0000, 0.0000, 0.0000],\n",
              "         [0.0000, 0.0000, 0.0000],\n",
              "         [0.0000, 0.0000, 0.0000]],\n",
              "\n",
              "        [[0.0035, 0.0035, 0.0035],\n",
              "         [0.0035, 0.0035, 0.0035],\n",
              "         [0.0035, 0.0035, 0.0035],\n",
              "         ...,\n",
              "         [0.0000, 0.0000, 0.0000],\n",
              "         [0.0000, 0.0000, 0.0000],\n",
              "         [0.0000, 0.0000, 0.0000]],\n",
              "\n",
              "        [[0.0035, 0.0035, 0.0035],\n",
              "         [0.0035, 0.0035, 0.0035],\n",
              "         [0.0035, 0.0035, 0.0035],\n",
              "         ...,\n",
              "         [0.0000, 0.0000, 0.0000],\n",
              "         [0.0000, 0.0000, 0.0000],\n",
              "         [0.0000, 0.0000, 0.0000]],\n",
              "\n",
              "        ...,\n",
              "\n",
              "        [[0.0000, 0.0000, 0.0000],\n",
              "         [0.0000, 0.0000, 0.0000],\n",
              "         [0.0000, 0.0000, 0.0000],\n",
              "         ...,\n",
              "         [0.0000, 0.0000, 0.0000],\n",
              "         [0.0000, 0.0000, 0.0000],\n",
              "         [0.0000, 0.0000, 0.0000]],\n",
              "\n",
              "        [[0.0000, 0.0000, 0.0000],\n",
              "         [0.0000, 0.0000, 0.0000],\n",
              "         [0.0000, 0.0000, 0.0000],\n",
              "         ...,\n",
              "         [0.0000, 0.0000, 0.0000],\n",
              "         [0.0000, 0.0000, 0.0000],\n",
              "         [0.0000, 0.0000, 0.0000]],\n",
              "\n",
              "        [[0.0000, 0.0000, 0.0000],\n",
              "         [0.0000, 0.0000, 0.0000],\n",
              "         [0.0000, 0.0000, 0.0000],\n",
              "         ...,\n",
              "         [0.0000, 0.0000, 0.0000],\n",
              "         [0.0000, 0.0000, 0.0000],\n",
              "         [0.0000, 0.0000, 0.0000]]])"
            ]
          },
          "metadata": {},
          "execution_count": 627
        }
      ]
    },
    {
      "cell_type": "code",
      "source": [
        "visualization = show_cam_on_image(\n",
        "    np.moveaxis(orig.numpy(), 0, -1), x_interpolated, use_rgb=True)"
      ],
      "metadata": {
        "id": "esP1wMdDl6jf"
      },
      "execution_count": 628,
      "outputs": []
    },
    {
      "cell_type": "code",
      "source": [
        "visualization"
      ],
      "metadata": {
        "colab": {
          "base_uri": "https://localhost:8080/",
          "height": 265
        },
        "id": "5EvQJho0m2U9",
        "outputId": "c5d158eb-ddcd-49a3-a6ec-904578573ba9"
      },
      "execution_count": 629,
      "outputs": [
        {
          "output_type": "execute_result",
          "data": {
            "text/plain": [
              "array([[[ 31,  35, 118],\n",
              "        [ 33,  37, 120],\n",
              "        [ 37,  40, 123],\n",
              "        ...,\n",
              "        [ 78,  89, 169],\n",
              "        [ 84,  93, 174],\n",
              "        [ 88,  96, 177]],\n",
              "\n",
              "       [[ 35,  40, 123],\n",
              "        [ 39,  44, 127],\n",
              "        [ 45,  50, 133],\n",
              "        ...,\n",
              "        [ 80,  91, 170],\n",
              "        [ 85,  94, 176],\n",
              "        [ 89,  97, 179]],\n",
              "\n",
              "       [[ 42,  49, 132],\n",
              "        [ 49,  56, 139],\n",
              "        [ 60,  65, 148],\n",
              "        ...,\n",
              "        [ 84,  94, 176],\n",
              "        [ 88,  97, 178],\n",
              "        [ 91,  99, 180]],\n",
              "\n",
              "       ...,\n",
              "\n",
              "       [[ 74,  71, 139],\n",
              "        [ 74,  71, 140],\n",
              "        [ 73,  69, 139],\n",
              "        ...,\n",
              "        [138, 150, 228],\n",
              "        [136, 148, 228],\n",
              "        [134, 146, 228]],\n",
              "\n",
              "       [[ 74,  72, 141],\n",
              "        [ 74,  72, 140],\n",
              "        [ 73,  70, 141],\n",
              "        ...,\n",
              "        [137, 149, 228],\n",
              "        [136, 148, 228],\n",
              "        [135, 146, 228]],\n",
              "\n",
              "       [[ 75,  74, 141],\n",
              "        [ 74,  73, 142],\n",
              "        [ 74,  71, 142],\n",
              "        ...,\n",
              "        [136, 148, 228],\n",
              "        [136, 147, 227],\n",
              "        [135, 146, 228]]], dtype=uint8)"
            ],
            "text/html": [
              "<style>\n",
              "      .ndarray_repr .ndarray_raw_data {\n",
              "        display: none;\n",
              "      }\n",
              "      .ndarray_repr.show_array .ndarray_raw_data {\n",
              "        display: block;\n",
              "      }\n",
              "      .ndarray_repr.show_array .ndarray_image_preview {\n",
              "        display: none;\n",
              "      }\n",
              "      </style>\n",
              "      <div id=\"id-1fc71e36-1980-4836-940d-447ad4927e46\" class=\"ndarray_repr\"><pre>ndarray (224, 224, 3) <button style=\"padding: 0 2px;\">show data</button></pre><img src=\"data:image/png;base64,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\" class=\"ndarray_image_preview\" /><pre class=\"ndarray_raw_data\">array([[[ 31,  35, 118],\n",
              "        [ 33,  37, 120],\n",
              "        [ 37,  40, 123],\n",
              "        ...,\n",
              "        [ 78,  89, 169],\n",
              "        [ 84,  93, 174],\n",
              "        [ 88,  96, 177]],\n",
              "\n",
              "       [[ 35,  40, 123],\n",
              "        [ 39,  44, 127],\n",
              "        [ 45,  50, 133],\n",
              "        ...,\n",
              "        [ 80,  91, 170],\n",
              "        [ 85,  94, 176],\n",
              "        [ 89,  97, 179]],\n",
              "\n",
              "       [[ 42,  49, 132],\n",
              "        [ 49,  56, 139],\n",
              "        [ 60,  65, 148],\n",
              "        ...,\n",
              "        [ 84,  94, 176],\n",
              "        [ 88,  97, 178],\n",
              "        [ 91,  99, 180]],\n",
              "\n",
              "       ...,\n",
              "\n",
              "       [[ 74,  71, 139],\n",
              "        [ 74,  71, 140],\n",
              "        [ 73,  69, 139],\n",
              "        ...,\n",
              "        [138, 150, 228],\n",
              "        [136, 148, 228],\n",
              "        [134, 146, 228]],\n",
              "\n",
              "       [[ 74,  72, 141],\n",
              "        [ 74,  72, 140],\n",
              "        [ 73,  70, 141],\n",
              "        ...,\n",
              "        [137, 149, 228],\n",
              "        [136, 148, 228],\n",
              "        [135, 146, 228]],\n",
              "\n",
              "       [[ 75,  74, 141],\n",
              "        [ 74,  73, 142],\n",
              "        [ 74,  71, 142],\n",
              "        ...,\n",
              "        [136, 148, 228],\n",
              "        [136, 147, 227],\n",
              "        [135, 146, 228]]], dtype=uint8)</pre></div><script>\n",
              "      (() => {\n",
              "      const titles = ['show data', 'hide data'];\n",
              "      let index = 0\n",
              "      document.querySelector('#id-1fc71e36-1980-4836-940d-447ad4927e46 button').onclick = (e) => {\n",
              "        document.querySelector('#id-1fc71e36-1980-4836-940d-447ad4927e46').classList.toggle('show_array');\n",
              "        index = (++index) % 2;\n",
              "        document.querySelector('#id-1fc71e36-1980-4836-940d-447ad4927e46 button').textContent = titles[index];\n",
              "        e.preventDefault();\n",
              "        e.stopPropagation();\n",
              "      }\n",
              "      })();\n",
              "    </script>"
            ]
          },
          "metadata": {},
          "execution_count": 629
        }
      ]
    },
    {
      "cell_type": "code",
      "source": [
        "cv2.imwrite(\"explaination.png\", visualization)"
      ],
      "metadata": {
        "colab": {
          "base_uri": "https://localhost:8080/"
        },
        "id": "pKMCkgPzm3NJ",
        "outputId": "cc9069d5-3871-496b-e9d0-00a84ea3d8a6"
      },
      "execution_count": 630,
      "outputs": [
        {
          "output_type": "execute_result",
          "data": {
            "text/plain": [
              "True"
            ]
          },
          "metadata": {},
          "execution_count": 630
        }
      ]
    }
  ]
}